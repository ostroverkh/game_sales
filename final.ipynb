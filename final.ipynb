{
 "cells": [
  {
   "cell_type": "markdown",
   "metadata": {},
   "source": [
    "<font color=green> Привет еще раз. Спасибо, что доделала работу. Мои комментарии к исправленным замечаниям будут выделены зеленым цветом. Если же потребуется доработка некоторых пунктов проекта, то я отмечу это <font color=red>красным цветом. \n",
    "    \n",
    "---"
   ]
  },
  {
   "cell_type": "markdown",
   "metadata": {},
   "source": [
    "<font color=brown> Привет. На этот раз я обозначу комментарии коричневым цветом. \n",
    "    \n",
    "---"
   ]
  },
  {
   "cell_type": "markdown",
   "metadata": {},
   "source": [
    "<div class=\"alert alert-success\">\n",
    "<h2> Комментарий наставника</h2>\n",
    "\n",
    "Привет! Спасибо, что прислала задание:) Мои комментарии обозначены пометкой **Комментарий наставника**. Далее в файле ты сможешь найти их в похожих ячейках (если фон комментария <font color=green>зелёный</font> - всё сделано правильно; <font color=orange>оранжевый</font> - есть замечания, но не критично; <font color=red>красный</font> - нужно переделать). Не удаляй эти комментарии и постарайся учесть их в ходе выполнения данного проекта. \n",
    "\n",
    "</div>"
   ]
  },
  {
   "cell_type": "markdown",
   "metadata": {},
   "source": [
    "# Определение закономерностей успешности игры"
   ]
  },
  {
   "cell_type": "markdown",
   "metadata": {},
   "source": [
    "## Дано: Интернет-магазин \"Стримчик\", продающий игры по всему миру. \n",
    "## Необходимо: спрогнозировать продажи на потенциально прибыльные игры на лучше продаваемых платформах.\n",
    "## Для решения задачи возьмем исторические данные из открытых источников о продажах игр, отзывах пользователей и популярных платформах."
   ]
  },
  {
   "cell_type": "markdown",
   "metadata": {},
   "source": [
    "У нас дана таблица, состоящая из записей о играх разного времени и разных жанров. Данные распределены таким образом:\n",
    "* Name — название игры\n",
    "* Platform — платформа\n",
    "* Year_of_Release — год выпуска\n",
    "* Genre — жанр игры\n",
    "* NA_sales — продажи в Северной Америке (миллионы долларов)\n",
    "* EU_sales — продажи в Европе (миллионы долларов)\n",
    "* JP_sales — продажи в Японии (миллионы долларов)\n",
    "* Other_sales — продажи в других странах (миллионы долларов)\n",
    "* Critic_Score — оценка критиков (максимум 100)\n",
    "* User_Score — оценка пользователей (максимум 10)\n",
    "* Rating — рейтинг от организации ESRB (англ. Entertainment Software Rating Board)."
   ]
  },
  {
   "cell_type": "markdown",
   "metadata": {},
   "source": [
    "<div class=\"alert alert-warning\">\n",
    "<h2> Комментарий наставника</h2>\n",
    "\n",
    "Правильно, что есть краткое вступление в работу, описание того, что надо делать. В работе следует приводить краткий план того, что надо сделать (если этот план имеется), а также информацию о входных данных: какие столбцы есть в таблице, их названия и какую информацию они несут. Так работа выглядит презентабельно. \n",
    "\n",
    "</div>"
   ]
  },
  {
   "cell_type": "markdown",
   "metadata": {},
   "source": [
    "### Этап 1. Изучение данных."
   ]
  },
  {
   "cell_type": "markdown",
   "metadata": {},
   "source": [
    "1. Импорт библиотек и загрузка данных."
   ]
  },
  {
   "cell_type": "code",
   "execution_count": 1,
   "metadata": {},
   "outputs": [],
   "source": [
    "import pandas as pd # Библиотека pandas для анализа данных\n",
    "from pylab import rcParams # Увеличение дефолтных размеров графика в тетрадке Jupiter\n",
    "rcParams['figure.figsize'] = 8, 5 \n",
    "\n",
    "import seaborn as sns # Seaborn содержит более адекватные дефолтные настройки для оформления графиков\n",
    "sns.set(color_codes=True)\n",
    "\n",
    "import matplotlib.pyplot as plt # Matplotlib для реализаций функции plot и для гибкого настраивания графиков\n",
    "import numpy as np              # Numpy для работы с матрицами и массивами (высокоуровневые математические функции)\n",
    "import scipy.stats as st        # Используем методы библиотеки scipy для работы с гипотезами\n",
    "from functools import reduce    # Для работы с функциями и последовательностями\n",
    "idx = pd.IndexSlice      \n",
    "from scipy import stats as st   # Для проверок статитеческих значимостей"
   ]
  },
  {
   "cell_type": "markdown",
   "metadata": {},
   "source": [
    "2. Прочитаем данные (метод read_csv) из табличного файла расширения .csv . И назовем наш DataFrame - games."
   ]
  },
  {
   "cell_type": "code",
   "execution_count": 2,
   "metadata": {},
   "outputs": [],
   "source": [
    "games = pd.read_csv('/datasets/games.csv') # Назовем наш датафрейм games"
   ]
  },
  {
   "cell_type": "markdown",
   "metadata": {},
   "source": [
    "Посмотрим на первые 5 строк с помощью метода head()"
   ]
  },
  {
   "cell_type": "code",
   "execution_count": 3,
   "metadata": {
    "scrolled": true
   },
   "outputs": [
    {
     "data": {
      "text/html": [
       "<div>\n",
       "<style scoped>\n",
       "    .dataframe tbody tr th:only-of-type {\n",
       "        vertical-align: middle;\n",
       "    }\n",
       "\n",
       "    .dataframe tbody tr th {\n",
       "        vertical-align: top;\n",
       "    }\n",
       "\n",
       "    .dataframe thead th {\n",
       "        text-align: right;\n",
       "    }\n",
       "</style>\n",
       "<table border=\"1\" class=\"dataframe\">\n",
       "  <thead>\n",
       "    <tr style=\"text-align: right;\">\n",
       "      <th></th>\n",
       "      <th>Name</th>\n",
       "      <th>Platform</th>\n",
       "      <th>Year_of_Release</th>\n",
       "      <th>Genre</th>\n",
       "      <th>NA_sales</th>\n",
       "      <th>EU_sales</th>\n",
       "      <th>JP_sales</th>\n",
       "      <th>Other_sales</th>\n",
       "      <th>Critic_Score</th>\n",
       "      <th>User_Score</th>\n",
       "      <th>Rating</th>\n",
       "    </tr>\n",
       "  </thead>\n",
       "  <tbody>\n",
       "    <tr>\n",
       "      <td>0</td>\n",
       "      <td>Wii Sports</td>\n",
       "      <td>Wii</td>\n",
       "      <td>2006.0</td>\n",
       "      <td>Sports</td>\n",
       "      <td>41.36</td>\n",
       "      <td>28.96</td>\n",
       "      <td>3.77</td>\n",
       "      <td>8.45</td>\n",
       "      <td>76.0</td>\n",
       "      <td>8</td>\n",
       "      <td>E</td>\n",
       "    </tr>\n",
       "    <tr>\n",
       "      <td>1</td>\n",
       "      <td>Super Mario Bros.</td>\n",
       "      <td>NES</td>\n",
       "      <td>1985.0</td>\n",
       "      <td>Platform</td>\n",
       "      <td>29.08</td>\n",
       "      <td>3.58</td>\n",
       "      <td>6.81</td>\n",
       "      <td>0.77</td>\n",
       "      <td>NaN</td>\n",
       "      <td>NaN</td>\n",
       "      <td>NaN</td>\n",
       "    </tr>\n",
       "    <tr>\n",
       "      <td>2</td>\n",
       "      <td>Mario Kart Wii</td>\n",
       "      <td>Wii</td>\n",
       "      <td>2008.0</td>\n",
       "      <td>Racing</td>\n",
       "      <td>15.68</td>\n",
       "      <td>12.76</td>\n",
       "      <td>3.79</td>\n",
       "      <td>3.29</td>\n",
       "      <td>82.0</td>\n",
       "      <td>8.3</td>\n",
       "      <td>E</td>\n",
       "    </tr>\n",
       "    <tr>\n",
       "      <td>3</td>\n",
       "      <td>Wii Sports Resort</td>\n",
       "      <td>Wii</td>\n",
       "      <td>2009.0</td>\n",
       "      <td>Sports</td>\n",
       "      <td>15.61</td>\n",
       "      <td>10.93</td>\n",
       "      <td>3.28</td>\n",
       "      <td>2.95</td>\n",
       "      <td>80.0</td>\n",
       "      <td>8</td>\n",
       "      <td>E</td>\n",
       "    </tr>\n",
       "    <tr>\n",
       "      <td>4</td>\n",
       "      <td>Pokemon Red/Pokemon Blue</td>\n",
       "      <td>GB</td>\n",
       "      <td>1996.0</td>\n",
       "      <td>Role-Playing</td>\n",
       "      <td>11.27</td>\n",
       "      <td>8.89</td>\n",
       "      <td>10.22</td>\n",
       "      <td>1.00</td>\n",
       "      <td>NaN</td>\n",
       "      <td>NaN</td>\n",
       "      <td>NaN</td>\n",
       "    </tr>\n",
       "  </tbody>\n",
       "</table>\n",
       "</div>"
      ],
      "text/plain": [
       "                       Name Platform  Year_of_Release         Genre  NA_sales  \\\n",
       "0                Wii Sports      Wii           2006.0        Sports     41.36   \n",
       "1         Super Mario Bros.      NES           1985.0      Platform     29.08   \n",
       "2            Mario Kart Wii      Wii           2008.0        Racing     15.68   \n",
       "3         Wii Sports Resort      Wii           2009.0        Sports     15.61   \n",
       "4  Pokemon Red/Pokemon Blue       GB           1996.0  Role-Playing     11.27   \n",
       "\n",
       "   EU_sales  JP_sales  Other_sales  Critic_Score User_Score Rating  \n",
       "0     28.96      3.77         8.45          76.0          8      E  \n",
       "1      3.58      6.81         0.77           NaN        NaN    NaN  \n",
       "2     12.76      3.79         3.29          82.0        8.3      E  \n",
       "3     10.93      3.28         2.95          80.0          8      E  \n",
       "4      8.89     10.22         1.00           NaN        NaN    NaN  "
      ]
     },
     "execution_count": 3,
     "metadata": {},
     "output_type": "execute_result"
    }
   ],
   "source": [
    "games.head()"
   ]
  },
  {
   "cell_type": "code",
   "execution_count": 4,
   "metadata": {
    "scrolled": false
   },
   "outputs": [
    {
     "data": {
      "text/html": [
       "<div>\n",
       "<style scoped>\n",
       "    .dataframe tbody tr th:only-of-type {\n",
       "        vertical-align: middle;\n",
       "    }\n",
       "\n",
       "    .dataframe tbody tr th {\n",
       "        vertical-align: top;\n",
       "    }\n",
       "\n",
       "    .dataframe thead th {\n",
       "        text-align: right;\n",
       "    }\n",
       "</style>\n",
       "<table border=\"1\" class=\"dataframe\">\n",
       "  <thead>\n",
       "    <tr style=\"text-align: right;\">\n",
       "      <th></th>\n",
       "      <th>Year_of_Release</th>\n",
       "      <th>NA_sales</th>\n",
       "      <th>EU_sales</th>\n",
       "      <th>JP_sales</th>\n",
       "      <th>Other_sales</th>\n",
       "      <th>Critic_Score</th>\n",
       "    </tr>\n",
       "  </thead>\n",
       "  <tbody>\n",
       "    <tr>\n",
       "      <td>count</td>\n",
       "      <td>16446.000000</td>\n",
       "      <td>16715.000000</td>\n",
       "      <td>16715.000000</td>\n",
       "      <td>16715.000000</td>\n",
       "      <td>16715.000000</td>\n",
       "      <td>8137.000000</td>\n",
       "    </tr>\n",
       "    <tr>\n",
       "      <td>mean</td>\n",
       "      <td>2006.484616</td>\n",
       "      <td>0.263377</td>\n",
       "      <td>0.145060</td>\n",
       "      <td>0.077617</td>\n",
       "      <td>0.047342</td>\n",
       "      <td>68.967679</td>\n",
       "    </tr>\n",
       "    <tr>\n",
       "      <td>std</td>\n",
       "      <td>5.877050</td>\n",
       "      <td>0.813604</td>\n",
       "      <td>0.503339</td>\n",
       "      <td>0.308853</td>\n",
       "      <td>0.186731</td>\n",
       "      <td>13.938165</td>\n",
       "    </tr>\n",
       "    <tr>\n",
       "      <td>min</td>\n",
       "      <td>1980.000000</td>\n",
       "      <td>0.000000</td>\n",
       "      <td>0.000000</td>\n",
       "      <td>0.000000</td>\n",
       "      <td>0.000000</td>\n",
       "      <td>13.000000</td>\n",
       "    </tr>\n",
       "    <tr>\n",
       "      <td>25%</td>\n",
       "      <td>2003.000000</td>\n",
       "      <td>0.000000</td>\n",
       "      <td>0.000000</td>\n",
       "      <td>0.000000</td>\n",
       "      <td>0.000000</td>\n",
       "      <td>60.000000</td>\n",
       "    </tr>\n",
       "    <tr>\n",
       "      <td>50%</td>\n",
       "      <td>2007.000000</td>\n",
       "      <td>0.080000</td>\n",
       "      <td>0.020000</td>\n",
       "      <td>0.000000</td>\n",
       "      <td>0.010000</td>\n",
       "      <td>71.000000</td>\n",
       "    </tr>\n",
       "    <tr>\n",
       "      <td>75%</td>\n",
       "      <td>2010.000000</td>\n",
       "      <td>0.240000</td>\n",
       "      <td>0.110000</td>\n",
       "      <td>0.040000</td>\n",
       "      <td>0.030000</td>\n",
       "      <td>79.000000</td>\n",
       "    </tr>\n",
       "    <tr>\n",
       "      <td>max</td>\n",
       "      <td>2016.000000</td>\n",
       "      <td>41.360000</td>\n",
       "      <td>28.960000</td>\n",
       "      <td>10.220000</td>\n",
       "      <td>10.570000</td>\n",
       "      <td>98.000000</td>\n",
       "    </tr>\n",
       "  </tbody>\n",
       "</table>\n",
       "</div>"
      ],
      "text/plain": [
       "       Year_of_Release      NA_sales      EU_sales      JP_sales  \\\n",
       "count     16446.000000  16715.000000  16715.000000  16715.000000   \n",
       "mean       2006.484616      0.263377      0.145060      0.077617   \n",
       "std           5.877050      0.813604      0.503339      0.308853   \n",
       "min        1980.000000      0.000000      0.000000      0.000000   \n",
       "25%        2003.000000      0.000000      0.000000      0.000000   \n",
       "50%        2007.000000      0.080000      0.020000      0.000000   \n",
       "75%        2010.000000      0.240000      0.110000      0.040000   \n",
       "max        2016.000000     41.360000     28.960000     10.220000   \n",
       "\n",
       "        Other_sales  Critic_Score  \n",
       "count  16715.000000   8137.000000  \n",
       "mean       0.047342     68.967679  \n",
       "std        0.186731     13.938165  \n",
       "min        0.000000     13.000000  \n",
       "25%        0.000000     60.000000  \n",
       "50%        0.010000     71.000000  \n",
       "75%        0.030000     79.000000  \n",
       "max       10.570000     98.000000  "
      ]
     },
     "execution_count": 4,
     "metadata": {},
     "output_type": "execute_result"
    }
   ],
   "source": [
    "games.describe()"
   ]
  },
  {
   "cell_type": "markdown",
   "metadata": {},
   "source": [
    "Для просмотра общей информацию по датафрейму, воспользуемся методом info()"
   ]
  },
  {
   "cell_type": "code",
   "execution_count": 5,
   "metadata": {},
   "outputs": [
    {
     "name": "stdout",
     "output_type": "stream",
     "text": [
      "<class 'pandas.core.frame.DataFrame'>\n",
      "RangeIndex: 16715 entries, 0 to 16714\n",
      "Data columns (total 11 columns):\n",
      "Name               16713 non-null object\n",
      "Platform           16715 non-null object\n",
      "Year_of_Release    16446 non-null float64\n",
      "Genre              16713 non-null object\n",
      "NA_sales           16715 non-null float64\n",
      "EU_sales           16715 non-null float64\n",
      "JP_sales           16715 non-null float64\n",
      "Other_sales        16715 non-null float64\n",
      "Critic_Score       8137 non-null float64\n",
      "User_Score         10014 non-null object\n",
      "Rating             9949 non-null object\n",
      "dtypes: float64(6), object(5)\n",
      "memory usage: 1.4+ MB\n"
     ]
    }
   ],
   "source": [
    "games.info()"
   ]
  },
  {
   "cell_type": "markdown",
   "metadata": {},
   "source": [
    "Как видно из предоставленных данных, что они не полные. Например, есть строки 16715 и 9949 (Rating). А также данные даны в разных типах, как object, нужно их привести к  float или int для дальнейшей работы с ними. И приведем в порядок названия столбцов."
   ]
  },
  {
   "cell_type": "markdown",
   "metadata": {},
   "source": [
    "<div class=\"alert alert-success\">\n",
    "<h2> Комментарий наставника</h2>\n",
    "\n",
    "Подумай также о возможных причинах появления пропусков, а также о том, являются ли они случайными или нет. Можно высказать предварительные варианты их обработки. \n",
    "\n",
    "Первый взгляд на таблицу выполнен.\n",
    "\n",
    "</div>"
   ]
  },
  {
   "cell_type": "markdown",
   "metadata": {},
   "source": [
    "### Этап 2. Изучение данных."
   ]
  },
  {
   "cell_type": "markdown",
   "metadata": {},
   "source": [
    "1. Приведем к нижнему регистру названия столбоцов методом str.lower()"
   ]
  },
  {
   "cell_type": "code",
   "execution_count": 6,
   "metadata": {
    "scrolled": false
   },
   "outputs": [
    {
     "data": {
      "text/html": [
       "<div>\n",
       "<style scoped>\n",
       "    .dataframe tbody tr th:only-of-type {\n",
       "        vertical-align: middle;\n",
       "    }\n",
       "\n",
       "    .dataframe tbody tr th {\n",
       "        vertical-align: top;\n",
       "    }\n",
       "\n",
       "    .dataframe thead th {\n",
       "        text-align: right;\n",
       "    }\n",
       "</style>\n",
       "<table border=\"1\" class=\"dataframe\">\n",
       "  <thead>\n",
       "    <tr style=\"text-align: right;\">\n",
       "      <th></th>\n",
       "      <th>name</th>\n",
       "      <th>platform</th>\n",
       "      <th>year_of_release</th>\n",
       "      <th>genre</th>\n",
       "      <th>na_sales</th>\n",
       "      <th>eu_sales</th>\n",
       "      <th>jp_sales</th>\n",
       "      <th>other_sales</th>\n",
       "      <th>critic_score</th>\n",
       "      <th>user_score</th>\n",
       "      <th>rating</th>\n",
       "    </tr>\n",
       "  </thead>\n",
       "  <tbody>\n",
       "    <tr>\n",
       "      <td>0</td>\n",
       "      <td>Wii Sports</td>\n",
       "      <td>Wii</td>\n",
       "      <td>2006.0</td>\n",
       "      <td>Sports</td>\n",
       "      <td>41.36</td>\n",
       "      <td>28.96</td>\n",
       "      <td>3.77</td>\n",
       "      <td>8.45</td>\n",
       "      <td>76.0</td>\n",
       "      <td>8</td>\n",
       "      <td>E</td>\n",
       "    </tr>\n",
       "    <tr>\n",
       "      <td>1</td>\n",
       "      <td>Super Mario Bros.</td>\n",
       "      <td>NES</td>\n",
       "      <td>1985.0</td>\n",
       "      <td>Platform</td>\n",
       "      <td>29.08</td>\n",
       "      <td>3.58</td>\n",
       "      <td>6.81</td>\n",
       "      <td>0.77</td>\n",
       "      <td>NaN</td>\n",
       "      <td>NaN</td>\n",
       "      <td>NaN</td>\n",
       "    </tr>\n",
       "    <tr>\n",
       "      <td>2</td>\n",
       "      <td>Mario Kart Wii</td>\n",
       "      <td>Wii</td>\n",
       "      <td>2008.0</td>\n",
       "      <td>Racing</td>\n",
       "      <td>15.68</td>\n",
       "      <td>12.76</td>\n",
       "      <td>3.79</td>\n",
       "      <td>3.29</td>\n",
       "      <td>82.0</td>\n",
       "      <td>8.3</td>\n",
       "      <td>E</td>\n",
       "    </tr>\n",
       "    <tr>\n",
       "      <td>3</td>\n",
       "      <td>Wii Sports Resort</td>\n",
       "      <td>Wii</td>\n",
       "      <td>2009.0</td>\n",
       "      <td>Sports</td>\n",
       "      <td>15.61</td>\n",
       "      <td>10.93</td>\n",
       "      <td>3.28</td>\n",
       "      <td>2.95</td>\n",
       "      <td>80.0</td>\n",
       "      <td>8</td>\n",
       "      <td>E</td>\n",
       "    </tr>\n",
       "    <tr>\n",
       "      <td>4</td>\n",
       "      <td>Pokemon Red/Pokemon Blue</td>\n",
       "      <td>GB</td>\n",
       "      <td>1996.0</td>\n",
       "      <td>Role-Playing</td>\n",
       "      <td>11.27</td>\n",
       "      <td>8.89</td>\n",
       "      <td>10.22</td>\n",
       "      <td>1.00</td>\n",
       "      <td>NaN</td>\n",
       "      <td>NaN</td>\n",
       "      <td>NaN</td>\n",
       "    </tr>\n",
       "  </tbody>\n",
       "</table>\n",
       "</div>"
      ],
      "text/plain": [
       "                       name platform  year_of_release         genre  na_sales  \\\n",
       "0                Wii Sports      Wii           2006.0        Sports     41.36   \n",
       "1         Super Mario Bros.      NES           1985.0      Platform     29.08   \n",
       "2            Mario Kart Wii      Wii           2008.0        Racing     15.68   \n",
       "3         Wii Sports Resort      Wii           2009.0        Sports     15.61   \n",
       "4  Pokemon Red/Pokemon Blue       GB           1996.0  Role-Playing     11.27   \n",
       "\n",
       "   eu_sales  jp_sales  other_sales  critic_score user_score rating  \n",
       "0     28.96      3.77         8.45          76.0          8      E  \n",
       "1      3.58      6.81         0.77           NaN        NaN    NaN  \n",
       "2     12.76      3.79         3.29          82.0        8.3      E  \n",
       "3     10.93      3.28         2.95          80.0          8      E  \n",
       "4      8.89     10.22         1.00           NaN        NaN    NaN  "
      ]
     },
     "metadata": {},
     "output_type": "display_data"
    }
   ],
   "source": [
    "games.columns = games.columns.str.lower() # все столбцы написаны нижним регистром\n",
    "display(games.head(5)) # выведем первые 5 строк и посмотрим на названи столбцов, чтобы убедиться"
   ]
  },
  {
   "cell_type": "markdown",
   "metadata": {},
   "source": [
    "<div class=\"alert alert-warning\">\n",
    "<h2> Комментарий наставника</h2>\n",
    "\n",
    "Таблицы на печать выводи с помощью метода display. \n",
    "\n",
    "</div>"
   ]
  },
  {
   "cell_type": "markdown",
   "metadata": {},
   "source": [
    "2. Некоторые данные pandas считал как object, приведем к типам float или int.\n",
    "Например, годе выпуска (с float вещественный) — на целочисленный integer)."
   ]
  },
  {
   "cell_type": "code",
   "execution_count": 7,
   "metadata": {},
   "outputs": [
    {
     "data": {
      "text/plain": [
       "False    16446\n",
       "True       269\n",
       "Name: year_of_release, dtype: int64"
      ]
     },
     "execution_count": 7,
     "metadata": {},
     "output_type": "execute_result"
    }
   ],
   "source": [
    "games['year_of_release'].isna().value_counts()"
   ]
  },
  {
   "cell_type": "markdown",
   "metadata": {},
   "source": [
    "По ответу на команду видно, что 269 значений пропущено. Так как нет возможности их восстановить, промаркируем пропущенные значения в -1, \n",
    "и в дальнейшем анализе не будем их использовать. \n",
    "Используем метод fillna()."
   ]
  },
  {
   "cell_type": "code",
   "execution_count": 8,
   "metadata": {},
   "outputs": [],
   "source": [
    "games['year_of_release'].fillna(-1, inplace=True)\n",
    "games['year_of_release'] = games['year_of_release'].astype('int')"
   ]
  },
  {
   "cell_type": "markdown",
   "metadata": {},
   "source": [
    "3. С оценкой пользователей (столбец 'user_score') ситуация похожа: часть значений пропущена, а также есть \n",
    "    некоторое количество оценок имеют значение 'tbd'. Заменим все эти значения также на -1, все остальные значения, \n",
    "    которые будут использованы в анализе — на вещественный тип данных."
   ]
  },
  {
   "cell_type": "markdown",
   "metadata": {},
   "source": [
    "<div class=\"alert alert-success\">\n",
    "<h2> Комментарий наставника</h2>\n",
    "\n",
    "Верно, по своей сути tbd и является Nan. \n",
    "\n",
    "</div>"
   ]
  },
  {
   "cell_type": "code",
   "execution_count": 9,
   "metadata": {},
   "outputs": [],
   "source": [
    "games.loc[(games['user_score'] == 'tbd') | (games['user_score'].isna()), 'user_score'] = -1\n",
    "games['user_score'] = pd.to_numeric(games['user_score'])"
   ]
  },
  {
   "cell_type": "markdown",
   "metadata": {},
   "source": [
    "4. Удалим строки с пропущенными названиями игр в столбце 'name'"
   ]
  },
  {
   "cell_type": "code",
   "execution_count": 10,
   "metadata": {},
   "outputs": [],
   "source": [
    "games.dropna(subset=['name'], inplace=True)"
   ]
  },
  {
   "cell_type": "markdown",
   "metadata": {},
   "source": [
    "5. А также обработаем пропущенные значения в оценках критиков ('critic_score') и рейтингов ESRB ('rating'). \n",
    "Поскольку точно заменить пропущенные значения не представляется возможным, заменим пропущенные значения на -1."
   ]
  },
  {
   "cell_type": "code",
   "execution_count": 11,
   "metadata": {},
   "outputs": [
    {
     "data": {
      "text/html": [
       "<div>\n",
       "<style scoped>\n",
       "    .dataframe tbody tr th:only-of-type {\n",
       "        vertical-align: middle;\n",
       "    }\n",
       "\n",
       "    .dataframe tbody tr th {\n",
       "        vertical-align: top;\n",
       "    }\n",
       "\n",
       "    .dataframe thead th {\n",
       "        text-align: right;\n",
       "    }\n",
       "</style>\n",
       "<table border=\"1\" class=\"dataframe\">\n",
       "  <thead>\n",
       "    <tr style=\"text-align: right;\">\n",
       "      <th></th>\n",
       "      <th>name</th>\n",
       "      <th>platform</th>\n",
       "      <th>year_of_release</th>\n",
       "      <th>genre</th>\n",
       "      <th>na_sales</th>\n",
       "      <th>eu_sales</th>\n",
       "      <th>jp_sales</th>\n",
       "      <th>other_sales</th>\n",
       "      <th>critic_score</th>\n",
       "      <th>user_score</th>\n",
       "      <th>rating</th>\n",
       "    </tr>\n",
       "  </thead>\n",
       "  <tbody>\n",
       "    <tr>\n",
       "      <td>0</td>\n",
       "      <td>Wii Sports</td>\n",
       "      <td>Wii</td>\n",
       "      <td>2006</td>\n",
       "      <td>Sports</td>\n",
       "      <td>41.36</td>\n",
       "      <td>28.96</td>\n",
       "      <td>3.77</td>\n",
       "      <td>8.45</td>\n",
       "      <td>76.0</td>\n",
       "      <td>8.0</td>\n",
       "      <td>E</td>\n",
       "    </tr>\n",
       "    <tr>\n",
       "      <td>1</td>\n",
       "      <td>Super Mario Bros.</td>\n",
       "      <td>NES</td>\n",
       "      <td>1985</td>\n",
       "      <td>Platform</td>\n",
       "      <td>29.08</td>\n",
       "      <td>3.58</td>\n",
       "      <td>6.81</td>\n",
       "      <td>0.77</td>\n",
       "      <td>-1.0</td>\n",
       "      <td>-1.0</td>\n",
       "      <td>-1</td>\n",
       "    </tr>\n",
       "    <tr>\n",
       "      <td>2</td>\n",
       "      <td>Mario Kart Wii</td>\n",
       "      <td>Wii</td>\n",
       "      <td>2008</td>\n",
       "      <td>Racing</td>\n",
       "      <td>15.68</td>\n",
       "      <td>12.76</td>\n",
       "      <td>3.79</td>\n",
       "      <td>3.29</td>\n",
       "      <td>82.0</td>\n",
       "      <td>8.3</td>\n",
       "      <td>E</td>\n",
       "    </tr>\n",
       "    <tr>\n",
       "      <td>3</td>\n",
       "      <td>Wii Sports Resort</td>\n",
       "      <td>Wii</td>\n",
       "      <td>2009</td>\n",
       "      <td>Sports</td>\n",
       "      <td>15.61</td>\n",
       "      <td>10.93</td>\n",
       "      <td>3.28</td>\n",
       "      <td>2.95</td>\n",
       "      <td>80.0</td>\n",
       "      <td>8.0</td>\n",
       "      <td>E</td>\n",
       "    </tr>\n",
       "    <tr>\n",
       "      <td>4</td>\n",
       "      <td>Pokemon Red/Pokemon Blue</td>\n",
       "      <td>GB</td>\n",
       "      <td>1996</td>\n",
       "      <td>Role-Playing</td>\n",
       "      <td>11.27</td>\n",
       "      <td>8.89</td>\n",
       "      <td>10.22</td>\n",
       "      <td>1.00</td>\n",
       "      <td>-1.0</td>\n",
       "      <td>-1.0</td>\n",
       "      <td>-1</td>\n",
       "    </tr>\n",
       "    <tr>\n",
       "      <td>...</td>\n",
       "      <td>...</td>\n",
       "      <td>...</td>\n",
       "      <td>...</td>\n",
       "      <td>...</td>\n",
       "      <td>...</td>\n",
       "      <td>...</td>\n",
       "      <td>...</td>\n",
       "      <td>...</td>\n",
       "      <td>...</td>\n",
       "      <td>...</td>\n",
       "      <td>...</td>\n",
       "    </tr>\n",
       "    <tr>\n",
       "      <td>16710</td>\n",
       "      <td>Samurai Warriors: Sanada Maru</td>\n",
       "      <td>PS3</td>\n",
       "      <td>2016</td>\n",
       "      <td>Action</td>\n",
       "      <td>0.00</td>\n",
       "      <td>0.00</td>\n",
       "      <td>0.01</td>\n",
       "      <td>0.00</td>\n",
       "      <td>-1.0</td>\n",
       "      <td>-1.0</td>\n",
       "      <td>-1</td>\n",
       "    </tr>\n",
       "    <tr>\n",
       "      <td>16711</td>\n",
       "      <td>LMA Manager 2007</td>\n",
       "      <td>X360</td>\n",
       "      <td>2006</td>\n",
       "      <td>Sports</td>\n",
       "      <td>0.00</td>\n",
       "      <td>0.01</td>\n",
       "      <td>0.00</td>\n",
       "      <td>0.00</td>\n",
       "      <td>-1.0</td>\n",
       "      <td>-1.0</td>\n",
       "      <td>-1</td>\n",
       "    </tr>\n",
       "    <tr>\n",
       "      <td>16712</td>\n",
       "      <td>Haitaka no Psychedelica</td>\n",
       "      <td>PSV</td>\n",
       "      <td>2016</td>\n",
       "      <td>Adventure</td>\n",
       "      <td>0.00</td>\n",
       "      <td>0.00</td>\n",
       "      <td>0.01</td>\n",
       "      <td>0.00</td>\n",
       "      <td>-1.0</td>\n",
       "      <td>-1.0</td>\n",
       "      <td>-1</td>\n",
       "    </tr>\n",
       "    <tr>\n",
       "      <td>16713</td>\n",
       "      <td>Spirits &amp; Spells</td>\n",
       "      <td>GBA</td>\n",
       "      <td>2003</td>\n",
       "      <td>Platform</td>\n",
       "      <td>0.01</td>\n",
       "      <td>0.00</td>\n",
       "      <td>0.00</td>\n",
       "      <td>0.00</td>\n",
       "      <td>-1.0</td>\n",
       "      <td>-1.0</td>\n",
       "      <td>-1</td>\n",
       "    </tr>\n",
       "    <tr>\n",
       "      <td>16714</td>\n",
       "      <td>Winning Post 8 2016</td>\n",
       "      <td>PSV</td>\n",
       "      <td>2016</td>\n",
       "      <td>Simulation</td>\n",
       "      <td>0.00</td>\n",
       "      <td>0.00</td>\n",
       "      <td>0.01</td>\n",
       "      <td>0.00</td>\n",
       "      <td>-1.0</td>\n",
       "      <td>-1.0</td>\n",
       "      <td>-1</td>\n",
       "    </tr>\n",
       "  </tbody>\n",
       "</table>\n",
       "<p>16713 rows × 11 columns</p>\n",
       "</div>"
      ],
      "text/plain": [
       "                                name platform  year_of_release         genre  \\\n",
       "0                         Wii Sports      Wii             2006        Sports   \n",
       "1                  Super Mario Bros.      NES             1985      Platform   \n",
       "2                     Mario Kart Wii      Wii             2008        Racing   \n",
       "3                  Wii Sports Resort      Wii             2009        Sports   \n",
       "4           Pokemon Red/Pokemon Blue       GB             1996  Role-Playing   \n",
       "...                              ...      ...              ...           ...   \n",
       "16710  Samurai Warriors: Sanada Maru      PS3             2016        Action   \n",
       "16711               LMA Manager 2007     X360             2006        Sports   \n",
       "16712        Haitaka no Psychedelica      PSV             2016     Adventure   \n",
       "16713               Spirits & Spells      GBA             2003      Platform   \n",
       "16714            Winning Post 8 2016      PSV             2016    Simulation   \n",
       "\n",
       "       na_sales  eu_sales  jp_sales  other_sales  critic_score  user_score  \\\n",
       "0         41.36     28.96      3.77         8.45          76.0         8.0   \n",
       "1         29.08      3.58      6.81         0.77          -1.0        -1.0   \n",
       "2         15.68     12.76      3.79         3.29          82.0         8.3   \n",
       "3         15.61     10.93      3.28         2.95          80.0         8.0   \n",
       "4         11.27      8.89     10.22         1.00          -1.0        -1.0   \n",
       "...         ...       ...       ...          ...           ...         ...   \n",
       "16710      0.00      0.00      0.01         0.00          -1.0        -1.0   \n",
       "16711      0.00      0.01      0.00         0.00          -1.0        -1.0   \n",
       "16712      0.00      0.00      0.01         0.00          -1.0        -1.0   \n",
       "16713      0.01      0.00      0.00         0.00          -1.0        -1.0   \n",
       "16714      0.00      0.00      0.01         0.00          -1.0        -1.0   \n",
       "\n",
       "      rating  \n",
       "0          E  \n",
       "1         -1  \n",
       "2          E  \n",
       "3          E  \n",
       "4         -1  \n",
       "...      ...  \n",
       "16710     -1  \n",
       "16711     -1  \n",
       "16712     -1  \n",
       "16713     -1  \n",
       "16714     -1  \n",
       "\n",
       "[16713 rows x 11 columns]"
      ]
     },
     "execution_count": 11,
     "metadata": {},
     "output_type": "execute_result"
    }
   ],
   "source": [
    "for column in ['critic_score', 'rating']:\n",
    "    games.loc[games[column].isna(), column] = -1\n",
    "games"
   ]
  },
  {
   "cell_type": "code",
   "execution_count": 12,
   "metadata": {},
   "outputs": [
    {
     "data": {
      "text/plain": [
       "0"
      ]
     },
     "execution_count": 12,
     "metadata": {},
     "output_type": "execute_result"
    }
   ],
   "source": [
    "games.duplicated().sum()"
   ]
  },
  {
   "cell_type": "markdown",
   "metadata": {},
   "source": [
    "Посмотрим на полученный размер данных методом shape"
   ]
  },
  {
   "cell_type": "code",
   "execution_count": 13,
   "metadata": {},
   "outputs": [
    {
     "name": "stdout",
     "output_type": "stream",
     "text": [
      "(16713, 11)\n"
     ]
    }
   ],
   "source": [
    "print(games.shape)"
   ]
  },
  {
   "cell_type": "markdown",
   "metadata": {},
   "source": [
    "6. Посчитаем суммарные продажи во всех регионах и запишем их в отдельный столбец под названием ['total_sales']"
   ]
  },
  {
   "cell_type": "code",
   "execution_count": 14,
   "metadata": {},
   "outputs": [
    {
     "data": {
      "text/plain": [
       "0        82.54\n",
       "1        40.24\n",
       "2        35.52\n",
       "3        32.77\n",
       "4        31.38\n",
       "         ...  \n",
       "16710     0.01\n",
       "16711     0.01\n",
       "16712     0.01\n",
       "16713     0.01\n",
       "16714     0.01\n",
       "Name: total_sales, Length: 16713, dtype: float64"
      ]
     },
     "metadata": {},
     "output_type": "display_data"
    }
   ],
   "source": [
    "games['total_sales'] = games['na_sales'] + games['eu_sales'] + games['jp_sales'] + games['other_sales']\n",
    "display(games['total_sales'])"
   ]
  },
  {
   "cell_type": "markdown",
   "metadata": {},
   "source": [
    "Итак, данные подготовлены для дальнейшей работы. А именно: \n",
    "- названия столбцов приведены к нижнему регистру (чтобы удобно было к ним обращаться),\n",
    "- обработаны пропущенные значения;\n",
    "- пропуски в столбце 'name' были удалены;\n",
    "- произвели замену в рейтинге 'rating' - аббревиатуры 'tbd' на значение -1;\n",
    "- год выпуска из типа 'float' приведен в целое число, потому что у нас нету года 2001.1 или 2000.0, года у нас в целых числах."
   ]
  },
  {
   "cell_type": "markdown",
   "metadata": {},
   "source": [
    "<div class=\"alert alert-success\">\n",
    "<h2> Комментарий наставника</h2>\n",
    "\n",
    "Верно, лучше работать с меньшим количеством данных хорошего качества. Пропуски обработаны маркерными значениями. Так мы просто пометили места пропусков. Главное помнить об этом и не использовать их в анализе.\n",
    "    \n",
    "Ошибки в данных устранены. Пропуски обработаны там, где возможно. Данные подготовлены к дальнейшему анализу. \n",
    "\n",
    "</div>"
   ]
  },
  {
   "cell_type": "markdown",
   "metadata": {},
   "source": [
    "## Этап 3. Исследовательский анализ данных"
   ]
  },
  {
   "cell_type": "markdown",
   "metadata": {},
   "source": [
    "1. Посмотрим, сколько игр выпускалось в разные годы. Важны ли данные за все периоды?"
   ]
  },
  {
   "cell_type": "code",
   "execution_count": 39,
   "metadata": {},
   "outputs": [
    {
     "data": {
      "text/plain": [
       "'C помощью параметра kind можно сделать столбчатый график, например, на bar chart. \\nMatplotlib позволяет очень гибко настраивать графики. \\nНа графике можно изменить почти все, что угодно, но потребуется порыться в документации и найти нужные параметры.\\nНапример, параметр rot отвечает за угол наклона подписей к оси x.'"
      ]
     },
     "execution_count": 39,
     "metadata": {},
     "output_type": "execute_result"
    },
    {
     "data": {
      "image/png": "[encoded data removed]",
      "text/plain": [
       "<Figure size 1080x432 with 1 Axes>"
      ]
     },
     "metadata": {},
     "output_type": "display_data"
    }
   ],
   "source": [
    "# Сделаем сводную таблицу\n",
    "time_game = games.query('year_of_release != -1')\n",
    "time_games = time_game.pivot_table(index='year_of_release', values='total_sales', aggfunc='count')\n",
    "time_games.columns = ['count']\n",
    "# построим график\n",
    "\n",
    "f, ax = plt.subplots(figsize=(15, 6))\n",
    "ax = sns.barplot(x=time_games.index, y=\"count\", data=time_games, palette=\"Blues_d\")\n",
    "\"\"\"C помощью параметра kind можно сделать столбчатый график, например, на bar chart. \n",
    "Matplotlib позволяет очень гибко настраивать графики. \n",
    "На графике можно изменить почти все, что угодно, но потребуется порыться в документации и найти нужные параметры.\n",
    "Например, параметр rot отвечает за угол наклона подписей к оси x.\"\"\""
   ]
  },
  {
   "cell_type": "markdown",
   "metadata": {},
   "source": [
    "<font color=brown> Значения -1 лучше отфильтровать. Это же нереальный год.  \n",
    "    \n",
    "---"
   ]
  },
  {
   "cell_type": "markdown",
   "metadata": {},
   "source": [
    "отфильтровала"
   ]
  },
  {
   "cell_type": "markdown",
   "metadata": {},
   "source": [
    "Как видно из графика данные по нормальному распределению можно брать с 1994 года."
   ]
  },
  {
   "cell_type": "markdown",
   "metadata": {},
   "source": [
    "2. Посмотрим, как менялись продажи по платформам."
   ]
  },
  {
   "cell_type": "markdown",
   "metadata": {},
   "source": [
    "2.1 Посмотрим, как менялись продажи по платформам. Выберем платформы с наибольшими суммарными продажами и построим распределение по годам. "
   ]
  },
  {
   "cell_type": "code",
   "execution_count": 16,
   "metadata": {
    "scrolled": true
   },
   "outputs": [],
   "source": [
    "total_sales_platform = games.query('year_of_release != -1') # убираем промарикированные значения -1\n",
    "\n",
    "total_sales_platform = (games.groupby(['platform'],as_index = False)['total_sales'].sum()\n",
    "                                 .sort_values('total_sales',ascending = False)\n",
    "                           ) # Посмотрим сводную таблицу"
   ]
  },
  {
   "cell_type": "code",
   "execution_count": 17,
   "metadata": {},
   "outputs": [
    {
     "data": {
      "image/png": "[encoded data removed]",
      "text/plain": [
       "<Figure size 720x360 with 1 Axes>"
      ]
     },
     "metadata": {},
     "output_type": "display_data"
    }
   ],
   "source": [
    "# построим график\n",
    "\n",
    "(total_sales_platform.plot(kind='bar',x='platform', y='total_sales',figsize=(10, 5),legend=False)\n",
    "                         .set(xlabel='Платформа', ylabel='Глобальные продажи')\n",
    ")\n",
    "plt.show()"
   ]
  },
  {
   "cell_type": "markdown",
   "metadata": {},
   "source": [
    "График нам показывает, что лидируют 6 платформ (PS2, X360, PS3, Wii, DS, PS) с большим отрывом, построим по ним распределение по годам."
   ]
  },
  {
   "cell_type": "markdown",
   "metadata": {},
   "source": [
    "2.2 Найдем среднюю продолжительность жизни игровой платформы."
   ]
  },
  {
   "cell_type": "markdown",
   "metadata": {},
   "source": [
    "Для этого возьмем для анализа топ-6 платформ и посмотрим сколько они \"прожили\"."
   ]
  },
  {
   "cell_type": "code",
   "execution_count": 18,
   "metadata": {},
   "outputs": [
    {
     "data": {
      "text/plain": [
       "['PS2', 'X360', 'PS3', 'Wii', 'DS', 'PS']"
      ]
     },
     "execution_count": 18,
     "metadata": {},
     "output_type": "execute_result"
    }
   ],
   "source": [
    "top_6 = total_sales_platform.head(6)['platform'].tolist()\n",
    "top_6"
   ]
  },
  {
   "cell_type": "code",
   "execution_count": 19,
   "metadata": {
    "scrolled": false
   },
   "outputs": [
    {
     "data": {
      "image/png": "[encoded data removed]",
      "text/plain": [
       "<Figure size 720x360 with 1 Axes>"
      ]
     },
     "metadata": {},
     "output_type": "display_data"
    }
   ],
   "source": [
    "for name in top_6:\n",
    "    games.query('platform == @name and year_of_release != -1').pivot_table(index = 'year_of_release',\n",
    "                        values = 'total_sales', aggfunc = 'sum').sort_values('year_of_release',\n",
    "                                                    ascending = False)['total_sales'].plot(figsize = (10, 5), label=name)\n",
    "   \n",
    "    plt.xlabel('Дата релиза', labelpad = 10)\n",
    "    plt.ylabel('Продажи', labelpad = 50)\n",
    "    plt.legend()"
   ]
  },
  {
   "cell_type": "markdown",
   "metadata": {},
   "source": [
    "По графику видим, что платформа появляется и исчезает в течение примерно 8-10 лет.\n",
    "Поэтому, для нашего прогноза целесообразно рассмотреть период за последние 5 лет, т.е те платформы которые набирают популярность, либо находятся на пике."
   ]
  },
  {
   "cell_type": "markdown",
   "metadata": {},
   "source": [
    "<div class=\"alert alert-success\">\n",
    "<h2> Комментарий наставника</h2>\n",
    "\n",
    "Верное значение по средней продолжительности существования платформы. Здорово, что приведены его расчеты. \n",
    "\n",
    "</div>"
   ]
  },
  {
   "cell_type": "markdown",
   "metadata": {},
   "source": [
    "3. Узнаем какие платформы лидируют по продажам, растут или падают? Выберите несколько потенциально прибыльных платформ"
   ]
  },
  {
   "cell_type": "code",
   "execution_count": 20,
   "metadata": {
    "scrolled": true
   },
   "outputs": [
    {
     "data": {
      "text/html": [
       "<div>\n",
       "<style scoped>\n",
       "    .dataframe tbody tr th:only-of-type {\n",
       "        vertical-align: middle;\n",
       "    }\n",
       "\n",
       "    .dataframe tbody tr th {\n",
       "        vertical-align: top;\n",
       "    }\n",
       "\n",
       "    .dataframe thead th {\n",
       "        text-align: right;\n",
       "    }\n",
       "</style>\n",
       "<table border=\"1\" class=\"dataframe\">\n",
       "  <thead>\n",
       "    <tr style=\"text-align: right;\">\n",
       "      <th></th>\n",
       "      <th>platform</th>\n",
       "      <th>total_sales</th>\n",
       "    </tr>\n",
       "  </thead>\n",
       "  <tbody>\n",
       "    <tr>\n",
       "      <td>4</td>\n",
       "      <td>PS4</td>\n",
       "      <td>314.14</td>\n",
       "    </tr>\n",
       "    <tr>\n",
       "      <td>3</td>\n",
       "      <td>PS3</td>\n",
       "      <td>288.79</td>\n",
       "    </tr>\n",
       "    <tr>\n",
       "      <td>9</td>\n",
       "      <td>X360</td>\n",
       "      <td>236.54</td>\n",
       "    </tr>\n",
       "    <tr>\n",
       "      <td>0</td>\n",
       "      <td>3DS</td>\n",
       "      <td>194.61</td>\n",
       "    </tr>\n",
       "    <tr>\n",
       "      <td>10</td>\n",
       "      <td>XOne</td>\n",
       "      <td>159.32</td>\n",
       "    </tr>\n",
       "    <tr>\n",
       "      <td>8</td>\n",
       "      <td>WiiU</td>\n",
       "      <td>82.19</td>\n",
       "    </tr>\n",
       "    <tr>\n",
       "      <td>2</td>\n",
       "      <td>PC</td>\n",
       "      <td>62.65</td>\n",
       "    </tr>\n",
       "    <tr>\n",
       "      <td>6</td>\n",
       "      <td>PSV</td>\n",
       "      <td>49.18</td>\n",
       "    </tr>\n",
       "    <tr>\n",
       "      <td>7</td>\n",
       "      <td>Wii</td>\n",
       "      <td>35.37</td>\n",
       "    </tr>\n",
       "    <tr>\n",
       "      <td>1</td>\n",
       "      <td>DS</td>\n",
       "      <td>12.55</td>\n",
       "    </tr>\n",
       "    <tr>\n",
       "      <td>5</td>\n",
       "      <td>PSP</td>\n",
       "      <td>11.19</td>\n",
       "    </tr>\n",
       "  </tbody>\n",
       "</table>\n",
       "</div>"
      ],
      "text/plain": [
       "   platform  total_sales\n",
       "4       PS4       314.14\n",
       "3       PS3       288.79\n",
       "9      X360       236.54\n",
       "0       3DS       194.61\n",
       "10     XOne       159.32\n",
       "8      WiiU        82.19\n",
       "2        PC        62.65\n",
       "6       PSV        49.18\n",
       "7       Wii        35.37\n",
       "1        DS        12.55\n",
       "5       PSP        11.19"
      ]
     },
     "execution_count": 20,
     "metadata": {},
     "output_type": "execute_result"
    }
   ],
   "source": [
    "actual_platforms = games.query('year_of_release >= 2012')\n",
    "top_actual_platforms = (actual_platforms.groupby(['platform'],as_index = False)['total_sales'].sum()\n",
    "                                 .sort_values('total_sales',ascending = False)\n",
    "                           )\n",
    "top_actual_platforms"
   ]
  },
  {
   "cell_type": "code",
   "execution_count": 21,
   "metadata": {
    "scrolled": true
   },
   "outputs": [
    {
     "data": {
      "image/png": "[encoded data removed]",
      "text/plain": [
       "<Figure size 720x360 with 1 Axes>"
      ]
     },
     "metadata": {},
     "output_type": "display_data"
    }
   ],
   "source": [
    "# Построим график\n",
    "(top_actual_platforms.plot(kind='bar',x='platform', y='total_sales',figsize=(10, 5),legend=False)\n",
    "                         .set(xlabel='Платформа', ylabel='Глобальные продажи')\n",
    ")\n",
    "plt.show()"
   ]
  },
  {
   "cell_type": "code",
   "execution_count": 22,
   "metadata": {},
   "outputs": [
    {
     "data": {
      "text/plain": [
       "['PS4', 'PS3', 'X360', '3DS', 'XOne', 'WiiU', 'PC', 'PSV', 'Wii', 'DS', 'PSP']"
      ]
     },
     "execution_count": 22,
     "metadata": {},
     "output_type": "execute_result"
    }
   ],
   "source": [
    "# Выведем списком топовых по продажам платформ\n",
    "top = top_actual_platforms['platform'].tolist()\n",
    "top"
   ]
  },
  {
   "cell_type": "markdown",
   "metadata": {},
   "source": [
    "Построим график"
   ]
  },
  {
   "cell_type": "markdown",
   "metadata": {},
   "source": [
    "<div class=\"alert alert-success\">\n",
    "<h2> Комментарий наставника</h2>\n",
    "\n",
    "Выбран правильный актуальный год. Так в рассмотрение попадут только последние поколения платформ. \n",
    "\n",
    "</div>"
   ]
  },
  {
   "cell_type": "code",
   "execution_count": 23,
   "metadata": {},
   "outputs": [
    {
     "data": {
      "image/png": "[encoded data removed]",
      "text/plain": [
       "<Figure size 720x360 with 1 Axes>"
      ]
     },
     "metadata": {},
     "output_type": "display_data"
    }
   ],
   "source": [
    "for name in top:\n",
    "    actual_platforms.query('platform == @name').pivot_table(index = 'year_of_release',\n",
    "                        values = 'total_sales', aggfunc = 'sum').sort_values('year_of_release',\n",
    "                                                    ascending = False)['total_sales'].plot(figsize=(10, 5), label = name)\n",
    "    \n",
    "    plt.xticks(np.arange(2012, 2017, step=1))\n",
    "    plt.xlabel('Дата релиза', labelpad = 10)\n",
    "    plt.ylabel('Продажи', labelpad = 10)\n",
    "    plt.legend()"
   ]
  },
  {
   "cell_type": "markdown",
   "metadata": {},
   "source": [
    "Как видно, что продажи падают на всех платформах. Хорошие продажи показывают только PS4 (синяя линия) и XOne (фиолетовая линия). Выберем эти платформы для дальнейшего анализа."
   ]
  },
  {
   "cell_type": "markdown",
   "metadata": {},
   "source": [
    "<div class=\"alert alert-warning\">\n",
    "<h2> Комментарий наставника</h2>\n",
    "\n",
    "Подобные таблицы лучше визуализировать. Так информация будет легче восприниматься. \n",
    "\n",
    "</div>"
   ]
  },
  {
   "cell_type": "markdown",
   "metadata": {},
   "source": [
    "<div class=\"alert alert-danger\">\n",
    "<h2> Комментарий наставника</h2>\n",
    "\n",
    "На данном периоде надо рассматривать все платформы, которые активны в нем, а не только самые популярные. Ведь популярность мы определяем по суммарной выручке, а у новых платформ ее еще нет, т.к. они только вышли. Из-за данного обстоятельства потеряна одна перспективная платформа. Найди ее.  \n",
    "\n",
    "</div>"
   ]
  },
  {
   "cell_type": "code",
   "execution_count": 24,
   "metadata": {},
   "outputs": [
    {
     "data": {
      "text/html": [
       "<div>\n",
       "<style scoped>\n",
       "    .dataframe tbody tr th:only-of-type {\n",
       "        vertical-align: middle;\n",
       "    }\n",
       "\n",
       "    .dataframe tbody tr th {\n",
       "        vertical-align: top;\n",
       "    }\n",
       "\n",
       "    .dataframe thead th {\n",
       "        text-align: right;\n",
       "    }\n",
       "</style>\n",
       "<table border=\"1\" class=\"dataframe\">\n",
       "  <thead>\n",
       "    <tr style=\"text-align: right;\">\n",
       "      <th></th>\n",
       "      <th>platform</th>\n",
       "      <th>year_of_release</th>\n",
       "      <th>total_sales</th>\n",
       "    </tr>\n",
       "  </thead>\n",
       "  <tbody>\n",
       "    <tr>\n",
       "      <td>4</td>\n",
       "      <td>XOne</td>\n",
       "      <td>2013</td>\n",
       "      <td>18.96</td>\n",
       "    </tr>\n",
       "    <tr>\n",
       "      <td>5</td>\n",
       "      <td>XOne</td>\n",
       "      <td>2014</td>\n",
       "      <td>54.07</td>\n",
       "    </tr>\n",
       "    <tr>\n",
       "      <td>6</td>\n",
       "      <td>XOne</td>\n",
       "      <td>2015</td>\n",
       "      <td>60.14</td>\n",
       "    </tr>\n",
       "    <tr>\n",
       "      <td>7</td>\n",
       "      <td>XOne</td>\n",
       "      <td>2016</td>\n",
       "      <td>26.15</td>\n",
       "    </tr>\n",
       "    <tr>\n",
       "      <td>0</td>\n",
       "      <td>PS4</td>\n",
       "      <td>2013</td>\n",
       "      <td>25.99</td>\n",
       "    </tr>\n",
       "    <tr>\n",
       "      <td>1</td>\n",
       "      <td>PS4</td>\n",
       "      <td>2014</td>\n",
       "      <td>100.00</td>\n",
       "    </tr>\n",
       "    <tr>\n",
       "      <td>2</td>\n",
       "      <td>PS4</td>\n",
       "      <td>2015</td>\n",
       "      <td>118.90</td>\n",
       "    </tr>\n",
       "    <tr>\n",
       "      <td>3</td>\n",
       "      <td>PS4</td>\n",
       "      <td>2016</td>\n",
       "      <td>69.25</td>\n",
       "    </tr>\n",
       "  </tbody>\n",
       "</table>\n",
       "</div>"
      ],
      "text/plain": [
       "  platform  year_of_release  total_sales\n",
       "4     XOne             2013        18.96\n",
       "5     XOne             2014        54.07\n",
       "6     XOne             2015        60.14\n",
       "7     XOne             2016        26.15\n",
       "0      PS4             2013        25.99\n",
       "1      PS4             2014       100.00\n",
       "2      PS4             2015       118.90\n",
       "3      PS4             2016        69.25"
      ]
     },
     "execution_count": 24,
     "metadata": {},
     "output_type": "execute_result"
    }
   ],
   "source": [
    "#  Сделаем сводную таблицу\n",
    "best_sales_platforms = actual_platforms.query('platform == \"PS4\" or platform == \"XOne\"')\n",
    "best_platforms_stat = (best_sales_platforms.groupby(['platform','year_of_release'],as_index = False)['total_sales'].sum()\n",
    "                                 .sort_values('platform',ascending = False)\n",
    "                           )\n",
    "best_platforms_stat"
   ]
  },
  {
   "cell_type": "markdown",
   "metadata": {},
   "source": [
    "<font color=brown> XOne и есть та самая потерянная платформа. \n",
    "    \n",
    "---"
   ]
  },
  {
   "cell_type": "markdown",
   "metadata": {},
   "source": [
    "4. Построим график «ящик с усами» по глобальным продажам каждой игры и разбивкой по платформам. Посмотрим велика ли разница в продажах? А в средних продажах на разных платформах? Опишем результат."
   ]
  },
  {
   "cell_type": "code",
   "execution_count": 25,
   "metadata": {
    "scrolled": false
   },
   "outputs": [
    {
     "data": {
      "text/plain": [
       "[(0, 5)]"
      ]
     },
     "execution_count": 25,
     "metadata": {},
     "output_type": "execute_result"
    },
    {
     "data": {
      "image/png": "[encoded data removed]",
      "text/plain": [
       "<Figure size 1080x648 with 1 Axes>"
      ]
     },
     "metadata": {},
     "output_type": "display_data"
    }
   ],
   "source": [
    "sns.set(rc={'figure.figsize':(15,9)}) # здесь я настраиваю размер самого графика в jupyter\n",
    "ax = sns.boxplot(x=\"platform\", y=\"total_sales\", data=best_sales_platforms, palette=\"Blues\")\n",
    "ax.set(ylim=(0,5))"
   ]
  },
  {
   "cell_type": "markdown",
   "metadata": {},
   "source": [
    "По средним и медианным значениям посмотрим велика ли разница в продажах на этих платформах."
   ]
  },
  {
   "cell_type": "code",
   "execution_count": 26,
   "metadata": {},
   "outputs": [
    {
     "data": {
      "text/html": [
       "<div>\n",
       "<style scoped>\n",
       "    .dataframe tbody tr th:only-of-type {\n",
       "        vertical-align: middle;\n",
       "    }\n",
       "\n",
       "    .dataframe tbody tr th {\n",
       "        vertical-align: top;\n",
       "    }\n",
       "\n",
       "    .dataframe thead tr th {\n",
       "        text-align: left;\n",
       "    }\n",
       "\n",
       "    .dataframe thead tr:last-of-type th {\n",
       "        text-align: right;\n",
       "    }\n",
       "</style>\n",
       "<table border=\"1\" class=\"dataframe\">\n",
       "  <thead>\n",
       "    <tr>\n",
       "      <th></th>\n",
       "      <th>mean</th>\n",
       "      <th>median</th>\n",
       "    </tr>\n",
       "    <tr>\n",
       "      <th></th>\n",
       "      <th>total_sales</th>\n",
       "      <th>total_sales</th>\n",
       "    </tr>\n",
       "    <tr>\n",
       "      <th>platform</th>\n",
       "      <th></th>\n",
       "      <th></th>\n",
       "    </tr>\n",
       "  </thead>\n",
       "  <tbody>\n",
       "    <tr>\n",
       "      <td>PS4</td>\n",
       "      <td>0.801378</td>\n",
       "      <td>0.20</td>\n",
       "    </tr>\n",
       "    <tr>\n",
       "      <td>XOne</td>\n",
       "      <td>0.645020</td>\n",
       "      <td>0.22</td>\n",
       "    </tr>\n",
       "  </tbody>\n",
       "</table>\n",
       "</div>"
      ],
      "text/plain": [
       "                mean      median\n",
       "         total_sales total_sales\n",
       "platform                        \n",
       "PS4         0.801378        0.20\n",
       "XOne        0.645020        0.22"
      ]
     },
     "execution_count": 26,
     "metadata": {},
     "output_type": "execute_result"
    }
   ],
   "source": [
    "best_platforms_mean = (best_sales_platforms.pivot_table(index = 'platform'\n",
    "                                                                 ,values='total_sales'\n",
    "                                                                 ,aggfunc = ['mean','median']) \n",
    "                                )\n",
    "best_platforms_mean"
   ]
  },
  {
   "cell_type": "markdown",
   "metadata": {},
   "source": [
    "Видим, что в среднем одна игра выпущенная на платформе приносит менее 1 млн доллара. Но, нужно учитывать и \"хиты продаж\", которые принесли более 1 млн доллара, поэтому смотрим медианные значения порядка 200-220 тыс долларов."
   ]
  },
  {
   "cell_type": "markdown",
   "metadata": {},
   "source": [
    "<div class=\"alert alert-warning\">\n",
    "<h2> Комментарий наставника</h2>\n",
    " \n",
    "Подумай, из-за чего формируется разница между платформами. \n",
    "\n",
    "</div>"
   ]
  },
  {
   "cell_type": "markdown",
   "metadata": {},
   "source": [
    "5. Посмотрим, как влияют на продажи внутри одной популярной платформы отзывы пользователей и критиков. Постройм диаграмму рассеяния и посчитаем корреляцию между отзывами и продажами. Сделаем выводы и соотнесем их с продажами игр на других платформах."
   ]
  },
  {
   "cell_type": "code",
   "execution_count": 27,
   "metadata": {},
   "outputs": [],
   "source": [
    "ps4 = best_sales_platforms.query(\"platform == 'PS4'\")\n",
    "xone = best_sales_platforms.query(\"platform == 'XOne'\")"
   ]
  },
  {
   "cell_type": "code",
   "execution_count": 28,
   "metadata": {},
   "outputs": [],
   "source": [
    "# отфильтруем таблицу от маркерных значений -1\n",
    "ps4_sales = ps4.query('platform == \"PS4\" and (user_score != -1) and (critic_score != -1)')"
   ]
  },
  {
   "cell_type": "markdown",
   "metadata": {},
   "source": [
    "<font color=brown> Маркерные значения в анализ не включаются больше. Это нереальные данные, анализировать их не стоит. Они только вызывают смещение результата. \n",
    "    \n",
    "---"
   ]
  },
  {
   "cell_type": "code",
   "execution_count": 29,
   "metadata": {},
   "outputs": [
    {
     "data": {
      "text/html": [
       "<style  type=\"text/css\" >\n",
       "    #T_409e6b48_9686_11ea_af21_02420a0006b4row0_col0 {\n",
       "            background-color:  #023858;\n",
       "            color:  #f1f1f1;\n",
       "        }    #T_409e6b48_9686_11ea_af21_02420a0006b4row0_col1 {\n",
       "            background-color:  #509ac6;\n",
       "            color:  #000000;\n",
       "        }    #T_409e6b48_9686_11ea_af21_02420a0006b4row0_col2 {\n",
       "            background-color:  #fff7fb;\n",
       "            color:  #000000;\n",
       "        }    #T_409e6b48_9686_11ea_af21_02420a0006b4row1_col0 {\n",
       "            background-color:  #ced0e6;\n",
       "            color:  #000000;\n",
       "        }    #T_409e6b48_9686_11ea_af21_02420a0006b4row1_col1 {\n",
       "            background-color:  #023858;\n",
       "            color:  #f1f1f1;\n",
       "        }    #T_409e6b48_9686_11ea_af21_02420a0006b4row1_col2 {\n",
       "            background-color:  #fff7fb;\n",
       "            color:  #000000;\n",
       "        }    #T_409e6b48_9686_11ea_af21_02420a0006b4row2_col0 {\n",
       "            background-color:  #fff7fb;\n",
       "            color:  #000000;\n",
       "        }    #T_409e6b48_9686_11ea_af21_02420a0006b4row2_col1 {\n",
       "            background-color:  #93b5d6;\n",
       "            color:  #000000;\n",
       "        }    #T_409e6b48_9686_11ea_af21_02420a0006b4row2_col2 {\n",
       "            background-color:  #023858;\n",
       "            color:  #f1f1f1;\n",
       "        }</style><table id=\"T_409e6b48_9686_11ea_af21_02420a0006b4\" ><thead>    <tr>        <th class=\"blank level0\" ></th>        <th class=\"col_heading level0 col0\" >user_score</th>        <th class=\"col_heading level0 col1\" >critic_score</th>        <th class=\"col_heading level0 col2\" >total_sales</th>    </tr></thead><tbody>\n",
       "                <tr>\n",
       "                        <th id=\"T_409e6b48_9686_11ea_af21_02420a0006b4level0_row0\" class=\"row_heading level0 row0\" >user_score</th>\n",
       "                        <td id=\"T_409e6b48_9686_11ea_af21_02420a0006b4row0_col0\" class=\"data row0 col0\" >1</td>\n",
       "                        <td id=\"T_409e6b48_9686_11ea_af21_02420a0006b4row0_col1\" class=\"data row0 col1\" >0.557654</td>\n",
       "                        <td id=\"T_409e6b48_9686_11ea_af21_02420a0006b4row0_col2\" class=\"data row0 col2\" >-0.033625</td>\n",
       "            </tr>\n",
       "            <tr>\n",
       "                        <th id=\"T_409e6b48_9686_11ea_af21_02420a0006b4level0_row1\" class=\"row_heading level0 row1\" >critic_score</th>\n",
       "                        <td id=\"T_409e6b48_9686_11ea_af21_02420a0006b4row1_col0\" class=\"data row1 col0\" >0.557654</td>\n",
       "                        <td id=\"T_409e6b48_9686_11ea_af21_02420a0006b4row1_col1\" class=\"data row1 col1\" >1</td>\n",
       "                        <td id=\"T_409e6b48_9686_11ea_af21_02420a0006b4row1_col2\" class=\"data row1 col2\" >0.405895</td>\n",
       "            </tr>\n",
       "            <tr>\n",
       "                        <th id=\"T_409e6b48_9686_11ea_af21_02420a0006b4level0_row2\" class=\"row_heading level0 row2\" >total_sales</th>\n",
       "                        <td id=\"T_409e6b48_9686_11ea_af21_02420a0006b4row2_col0\" class=\"data row2 col0\" >-0.033625</td>\n",
       "                        <td id=\"T_409e6b48_9686_11ea_af21_02420a0006b4row2_col1\" class=\"data row2 col1\" >0.405895</td>\n",
       "                        <td id=\"T_409e6b48_9686_11ea_af21_02420a0006b4row2_col2\" class=\"data row2 col2\" >1</td>\n",
       "            </tr>\n",
       "    </tbody></table>"
      ],
      "text/plain": [
       "<pandas.io.formats.style.Styler at 0x7f97360d1210>"
      ]
     },
     "execution_count": 29,
     "metadata": {},
     "output_type": "execute_result"
    }
   ],
   "source": [
    "influence = ['user_score', 'critic_score', 'total_sales']\n",
    "ps4_sales[influence].corr().style.background_gradient(axis=1)"
   ]
  },
  {
   "cell_type": "code",
   "execution_count": 30,
   "metadata": {},
   "outputs": [
    {
     "name": "stdout",
     "output_type": "stream",
     "text": [
      "-0.03\n",
      "0.41\n"
     ]
    },
    {
     "data": {
      "image/png": "[encoded data removed]",
      "text/plain": [
       "<Figure size 360x360 with 1 Axes>"
      ]
     },
     "metadata": {},
     "output_type": "display_data"
    },
    {
     "data": {
      "image/png": "[encoded data removed]",
      "text/plain": [
       "<Figure size 360x360 with 1 Axes>"
      ]
     },
     "metadata": {},
     "output_type": "display_data"
    }
   ],
   "source": [
    "# построим график\n",
    "for column in ['user_score', 'critic_score']:\n",
    "    print(round(ps4_sales[column].corr(ps4_sales['total_sales']), 2))\n",
    "    sns.relplot(x=column, y=\"total_sales\", data=ps4_sales)"
   ]
  },
  {
   "cell_type": "markdown",
   "metadata": {},
   "source": [
    "Как видно отзывы пользователей никак не влияют на продажи игр, в то время как отзывы критиков имеют небольшой вес в продажах: коэффициенты корреляции -0,03 и 0,41 соответственно. Ответ корреляции 0.41 ближе к нулю, чем к 1 (Коэффициент Пирсона от -1 до 1), что говорит нам о низкой взаимосвязи. Если была она бы ближе к 1, тем сильнее была бы связь. Возможно связь более сложная и имеет не линейный характер."
   ]
  },
  {
   "cell_type": "code",
   "execution_count": 31,
   "metadata": {},
   "outputs": [],
   "source": [
    "# проделаем тоже самое и с платформой Xone\n",
    "xone_sales = xone.query('platform == \"XOne\" and (user_score != -1) and (critic_score != -1)')"
   ]
  },
  {
   "cell_type": "code",
   "execution_count": 32,
   "metadata": {
    "scrolled": true
   },
   "outputs": [
    {
     "data": {
      "text/html": [
       "<style  type=\"text/css\" >\n",
       "    #T_417cd8e2_9686_11ea_af21_02420a0006b4row0_col0 {\n",
       "            background-color:  #023858;\n",
       "            color:  #f1f1f1;\n",
       "        }    #T_417cd8e2_9686_11ea_af21_02420a0006b4row0_col1 {\n",
       "            background-color:  #6ba5cd;\n",
       "            color:  #000000;\n",
       "        }    #T_417cd8e2_9686_11ea_af21_02420a0006b4row0_col2 {\n",
       "            background-color:  #fff7fb;\n",
       "            color:  #000000;\n",
       "        }    #T_417cd8e2_9686_11ea_af21_02420a0006b4row1_col0 {\n",
       "            background-color:  #f0eaf4;\n",
       "            color:  #000000;\n",
       "        }    #T_417cd8e2_9686_11ea_af21_02420a0006b4row1_col1 {\n",
       "            background-color:  #023858;\n",
       "            color:  #f1f1f1;\n",
       "        }    #T_417cd8e2_9686_11ea_af21_02420a0006b4row1_col2 {\n",
       "            background-color:  #fff7fb;\n",
       "            color:  #000000;\n",
       "        }    #T_417cd8e2_9686_11ea_af21_02420a0006b4row2_col0 {\n",
       "            background-color:  #fff7fb;\n",
       "            color:  #000000;\n",
       "        }    #T_417cd8e2_9686_11ea_af21_02420a0006b4row2_col1 {\n",
       "            background-color:  #83afd3;\n",
       "            color:  #000000;\n",
       "        }    #T_417cd8e2_9686_11ea_af21_02420a0006b4row2_col2 {\n",
       "            background-color:  #023858;\n",
       "            color:  #f1f1f1;\n",
       "        }</style><table id=\"T_417cd8e2_9686_11ea_af21_02420a0006b4\" ><thead>    <tr>        <th class=\"blank level0\" ></th>        <th class=\"col_heading level0 col0\" >user_score</th>        <th class=\"col_heading level0 col1\" >critic_score</th>        <th class=\"col_heading level0 col2\" >total_sales</th>    </tr></thead><tbody>\n",
       "                <tr>\n",
       "                        <th id=\"T_417cd8e2_9686_11ea_af21_02420a0006b4level0_row0\" class=\"row_heading level0 row0\" >user_score</th>\n",
       "                        <td id=\"T_417cd8e2_9686_11ea_af21_02420a0006b4row0_col0\" class=\"data row0 col0\" >1</td>\n",
       "                        <td id=\"T_417cd8e2_9686_11ea_af21_02420a0006b4row0_col1\" class=\"data row0 col1\" >0.472462</td>\n",
       "                        <td id=\"T_417cd8e2_9686_11ea_af21_02420a0006b4row0_col2\" class=\"data row0 col2\" >-0.0940032</td>\n",
       "            </tr>\n",
       "            <tr>\n",
       "                        <th id=\"T_417cd8e2_9686_11ea_af21_02420a0006b4level0_row1\" class=\"row_heading level0 row1\" >critic_score</th>\n",
       "                        <td id=\"T_417cd8e2_9686_11ea_af21_02420a0006b4row1_col0\" class=\"data row1 col0\" >0.472462</td>\n",
       "                        <td id=\"T_417cd8e2_9686_11ea_af21_02420a0006b4row1_col1\" class=\"data row1 col1\" >1</td>\n",
       "                        <td id=\"T_417cd8e2_9686_11ea_af21_02420a0006b4row1_col2\" class=\"data row1 col2\" >0.410422</td>\n",
       "            </tr>\n",
       "            <tr>\n",
       "                        <th id=\"T_417cd8e2_9686_11ea_af21_02420a0006b4level0_row2\" class=\"row_heading level0 row2\" >total_sales</th>\n",
       "                        <td id=\"T_417cd8e2_9686_11ea_af21_02420a0006b4row2_col0\" class=\"data row2 col0\" >-0.0940032</td>\n",
       "                        <td id=\"T_417cd8e2_9686_11ea_af21_02420a0006b4row2_col1\" class=\"data row2 col1\" >0.410422</td>\n",
       "                        <td id=\"T_417cd8e2_9686_11ea_af21_02420a0006b4row2_col2\" class=\"data row2 col2\" >1</td>\n",
       "            </tr>\n",
       "    </tbody></table>"
      ],
      "text/plain": [
       "<pandas.io.formats.style.Styler at 0x7f9735d971d0>"
      ]
     },
     "execution_count": 32,
     "metadata": {},
     "output_type": "execute_result"
    }
   ],
   "source": [
    "influence = ['user_score', 'critic_score', 'total_sales']\n",
    "xone_sales[influence].corr().style.background_gradient(axis=1)"
   ]
  },
  {
   "cell_type": "code",
   "execution_count": 33,
   "metadata": {},
   "outputs": [
    {
     "name": "stdout",
     "output_type": "stream",
     "text": [
      "-0.09\n",
      "0.41\n"
     ]
    },
    {
     "data": {
      "image/png": "[encoded data removed]",
      "text/plain": [
       "<Figure size 360x360 with 1 Axes>"
      ]
     },
     "metadata": {},
     "output_type": "display_data"
    },
    {
     "data": {
      "image/png": "[encoded data removed]",
      "text/plain": [
       "<Figure size 360x360 with 1 Axes>"
      ]
     },
     "metadata": {},
     "output_type": "display_data"
    }
   ],
   "source": [
    "# построим график\n",
    "for column in ['user_score', 'critic_score']:\n",
    "    print(round(xone_sales[column].corr(xone_sales['total_sales']), 2))\n",
    "    sns.relplot(x=column, y=\"total_sales\", data=xone_sales)"
   ]
  },
  {
   "cell_type": "markdown",
   "metadata": {},
   "source": [
    "<div class=\"alert alert-success\">\n",
    "<h2> Комментарий наставника</h2>\n",
    "\n",
    "Результат верный. Подумай, чем он вызван.\n",
    "\n",
    "</div>"
   ]
  },
  {
   "cell_type": "markdown",
   "metadata": {},
   "source": [
    "5.2 Соотнесем результаты по ps4 c продажами игр на других платформах."
   ]
  },
  {
   "cell_type": "code",
   "execution_count": 34,
   "metadata": {},
   "outputs": [],
   "source": [
    "actual_games = actual_platforms.copy()"
   ]
  },
  {
   "cell_type": "code",
   "execution_count": 35,
   "metadata": {},
   "outputs": [
    {
     "name": "stdout",
     "output_type": "stream",
     "text": [
      "\n",
      "PS3:\n",
      "Коэффициент корреляции user_score и total_sales: 0.0\n",
      "Коэффициент корреляции critic_score и total_sales: 0.33\n",
      "\n",
      "XOne:\n",
      "Коэффициент корреляции user_score и total_sales: -0.09\n",
      "Коэффициент корреляции critic_score и total_sales: 0.41\n",
      "\n",
      "PS3:\n",
      "Коэффициент корреляции user_score и total_sales: 0.0\n",
      "Коэффициент корреляции critic_score и total_sales: 0.33\n",
      "\n",
      "X360:\n",
      "Коэффициент корреляции user_score и total_sales: -0.0\n",
      "Коэффициент корреляции critic_score и total_sales: 0.36\n"
     ]
    },
    {
     "data": {
      "image/png": "[encoded data removed]",
      "text/plain": [
       "<Figure size 360x360 with 1 Axes>"
      ]
     },
     "metadata": {},
     "output_type": "display_data"
    },
    {
     "data": {
      "image/png": "[encoded data removed]",
      "text/plain": [
       "<Figure size 360x360 with 1 Axes>"
      ]
     },
     "metadata": {},
     "output_type": "display_data"
    },
    {
     "data": {
      "image/png": "[encoded data removed]",
      "text/plain": [
       "<Figure size 360x360 with 1 Axes>"
      ]
     },
     "metadata": {},
     "output_type": "display_data"
    },
    {
     "data": {
      "image/png": "[encoded data removed]",
      "text/plain": [
       "<Figure size 360x360 with 1 Axes>"
      ]
     },
     "metadata": {},
     "output_type": "display_data"
    },
    {
     "data": {
      "image/png": "[encoded data removed]",
      "text/plain": [
       "<Figure size 360x360 with 1 Axes>"
      ]
     },
     "metadata": {},
     "output_type": "display_data"
    },
    {
     "data": {
      "image/png": "[encoded data removed]",
      "text/plain": [
       "<Figure size 360x360 with 1 Axes>"
      ]
     },
     "metadata": {},
     "output_type": "display_data"
    },
    {
     "data": {
      "image/png": "[encoded data removed]",
      "text/plain": [
       "<Figure size 360x360 with 1 Axes>"
      ]
     },
     "metadata": {},
     "output_type": "display_data"
    },
    {
     "data": {
      "image/png": "[encoded data removed]",
      "text/plain": [
       "<Figure size 360x360 with 1 Axes>"
      ]
     },
     "metadata": {},
     "output_type": "display_data"
    }
   ],
   "source": [
    "# посчитаем коэффициент корреляции для отзывов пользователей и критиков относительно объема продаж\n",
    "# и построим корреляционную диаграмму\n",
    "for platform in ['PS3', 'XOne', 'PS3', 'X360']:\n",
    "    print('\\n{0}:'.format(platform))\n",
    "    for column in ['user_score', 'critic_score']:\n",
    "        temp = actual_games.query('platform == @platform and (user_score != -1) and (critic_score != -1)')\n",
    "        print('Коэффициент корреляции {0} и total_sales: {1}'.\\\n",
    "              format(column, round(temp[column].corr(temp['total_sales']), \n",
    "    2)))\n",
    "        sns.relplot(x=column, y=\"total_sales\", data=temp)\n",
    "        _ = plt.title(platform)"
   ]
  },
  {
   "cell_type": "code",
   "execution_count": 36,
   "metadata": {},
   "outputs": [
    {
     "ename": "NameError",
     "evalue": "name 'fig' is not defined",
     "output_type": "error",
     "traceback": [
      "\u001b[0;31m---------------------------------------------------------------------------\u001b[0m",
      "\u001b[0;31mNameError\u001b[0m                                 Traceback (most recent call last)",
      "\u001b[0;32m<ipython-input-36-ee3af2f57117>\u001b[0m in \u001b[0;36m<module>\u001b[0;34m\u001b[0m\n\u001b[1;32m      1\u001b[0m \u001b[0;32mimport\u001b[0m \u001b[0mplotly\u001b[0m\u001b[0;34m\u001b[0m\u001b[0;34m\u001b[0m\u001b[0m\n\u001b[0;32m----> 2\u001b[0;31m \u001b[0mplotly\u001b[0m\u001b[0;34m.\u001b[0m\u001b[0moffline\u001b[0m\u001b[0;34m.\u001b[0m\u001b[0mplot\u001b[0m\u001b[0;34m(\u001b[0m\u001b[0mfig\u001b[0m\u001b[0;34m,\u001b[0m \u001b[0mfilename\u001b[0m\u001b[0;34m=\u001b[0m\u001b[0;34m'ps_pl.html'\u001b[0m\u001b[0;34m,\u001b[0m \u001b[0mshow_link\u001b[0m\u001b[0;34m=\u001b[0m\u001b[0;32mFalse\u001b[0m\u001b[0;34m)\u001b[0m \u001b[0;31m# Можно сразу сохранить график в виде html-файла.\u001b[0m\u001b[0;34m\u001b[0m\u001b[0;34m\u001b[0m\u001b[0m\n\u001b[0m",
      "\u001b[0;31mNameError\u001b[0m: name 'fig' is not defined"
     ]
    }
   ],
   "source": [
    "import plotly\n",
    "plotly.offline.plot(fig, filename='ps_pl.html', show_link=False) # Можно сразу сохранить график в виде html-файла."
   ]
  },
  {
   "cell_type": "markdown",
   "metadata": {},
   "source": [
    "Выводы для других платформ аналогичны. Следовательно, для всех платформ характерно среднее влияние отзывов критиков на продажи и отсутствие влияния отзывов пользователей."
   ]
  },
  {
   "cell_type": "markdown",
   "metadata": {},
   "source": [
    "<div class=\"alert alert-success\">\n",
    "<h2> Комментарий наставника</h2>\n",
    "\n",
    "Здорово, что рассмотрены несколько платформ. \n",
    "\n",
    "</div>"
   ]
  },
  {
   "cell_type": "markdown",
   "metadata": {},
   "source": [
    "5. Посмотрим на общее распределение игр по жанрам.\n",
    "Выведем график для того, чтобы посмотреть какие игры больше всего в жанрах в зависимости от продаж."
   ]
  },
  {
   "cell_type": "code",
   "execution_count": null,
   "metadata": {
    "scrolled": true
   },
   "outputs": [],
   "source": [
    "genre_sales = actual_games.pivot_table(index='genre', values='total_sales', aggfunc='sum')\n",
    "genre_sales.sort_values('total_sales', ascending=False)"
   ]
  },
  {
   "cell_type": "code",
   "execution_count": null,
   "metadata": {},
   "outputs": [],
   "source": [
    "sns.catplot(x='genre', y=\"total_sales\", kind=\"box\", data=actual_games, height=6, aspect=2.7)\n",
    "_ = plt.ylim(0, 3)"
   ]
  },
  {
   "cell_type": "markdown",
   "metadata": {},
   "source": [
    "Как видно из графика, shooter по средним продажам лидирует по сравнению с остальными жанрами игр, а action, напротив, по этому критерию отстает, однако, является в целом популярным жанром из-за наибольшего объема продаж. Игры-приключения и игры-головоломки (puzzle), как правило, не пользуются большой популярностью: их абсолютные и средние продажи одни из самых низких среди всех жанров."
   ]
  },
  {
   "cell_type": "markdown",
   "metadata": {},
   "source": [
    "Выясним, какие жанры у самых продаваемых игр за все время:"
   ]
  },
  {
   "cell_type": "code",
   "execution_count": null,
   "metadata": {},
   "outputs": [],
   "source": [
    "games.pivot_table(index=['name', 'genre'], values='total_sales', aggfunc='sum').nlargest(10, 'total_sales')"
   ]
  },
  {
   "cell_type": "markdown",
   "metadata": {},
   "source": [
    "Интересно, что самая продаваемая игра из жанра sports, а не из shooter или action . Игра жанра action только на втором месте, а замыкает первую тройку - игра из жанра platform."
   ]
  },
  {
   "cell_type": "markdown",
   "metadata": {},
   "source": [
    "<div class=\"alert alert-success\">\n",
    "<h2> Комментарий наставника</h2>\n",
    "\n",
    "Правильно, но не стоит забывать, что производство игр в жанрах Action или Shooter обходится сильно дороже, чем производство Puzzle-игр. \n",
    "\n",
    "</div>"
   ]
  },
  {
   "cell_type": "markdown",
   "metadata": {},
   "source": [
    "# Этап 4. Составление портрета пользователя каждого региона"
   ]
  },
  {
   "cell_type": "markdown",
   "metadata": {},
   "source": [
    "1. Для начала посмотрим на топ-5 платформ в каждом регионе, приведенном в таблице"
   ]
  },
  {
   "cell_type": "code",
   "execution_count": null,
   "metadata": {},
   "outputs": [],
   "source": [
    "na_sales = actual_games.pivot_table(index='platform', values='na_sales', aggfunc='sum').nlargest(5, 'na_sales')\n",
    "na_sales.columns = ['sales']\n",
    "\n",
    "eu_sales = actual_games.pivot_table(index='platform', values='eu_sales', aggfunc='sum').nlargest(5, 'eu_sales')\n",
    "eu_sales.columns = ['sales']\n",
    "\n",
    "jp_sales = actual_games.pivot_table(index='platform', values='jp_sales', aggfunc='sum').nlargest(5, 'jp_sales')\n",
    "jp_sales.columns = ['sales']"
   ]
  },
  {
   "cell_type": "code",
   "execution_count": null,
   "metadata": {},
   "outputs": [],
   "source": [
    "import plotly.graph_objects as go\n",
    "# Построим график\n",
    "fig = go.Figure(data=[\n",
    "    go.Bar(name='North America', x=na_sales.index, y=na_sales['sales']),\n",
    "    go.Bar(name='Europe', x=eu_sales.index, y=eu_sales['sales']),\n",
    "    go.Bar(name='Japan', x=jp_sales.index, y=jp_sales['sales']),\n",
    "])\n",
    "# Change the bar mode\n",
    "fig.update_layout(barmode='group')\n",
    "fig.show()"
   ]
  },
  {
   "cell_type": "markdown",
   "metadata": {},
   "source": [
    "<font color=brown> Здорово, что используешь такую библиотеку, как plotly. Это очень радует. \n",
    "    \n",
    "---"
   ]
  },
  {
   "cell_type": "code",
   "execution_count": null,
   "metadata": {},
   "outputs": [],
   "source": [
    "for column in ['na_sales', 'eu_sales', 'jp_sales']:\n",
    "    region = actual_games.pivot_table(index='platform', values=column, aggfunc='sum').\\\n",
    "    sort_values(column, ascending=False)\n",
    "    region['ratio'] = round(region[column] / region[column].sum(), 2) # топовый регион\n",
    "    print(region.nlargest(5, column))"
   ]
  },
  {
   "cell_type": "markdown",
   "metadata": {},
   "source": [
    "Заметно отличается регион Япония от Америки и Европы по выбору топ-5 платформ. В Америке и Европе топовой является платформа PS4, тогда как в Японии - 3DS, а PS4 - занимает 4-е местто. Еще стоит отметить, что в Японии в топ вошла платформа PSV, которая на Западе входит лишь в топ-9.\n",
    "Такие данные нам говорят, что магазину Стримчик, стоит учитывать, что в Японии свои вкусы и настраивать продажи по платформам надо немного по-другому, в отличии от Европы и Америки."
   ]
  },
  {
   "cell_type": "markdown",
   "metadata": {},
   "source": [
    "2. Узнаем самые популярные жанры (топ-5) в регионах. Выясним разницу."
   ]
  },
  {
   "cell_type": "code",
   "execution_count": null,
   "metadata": {},
   "outputs": [],
   "source": [
    "for column in ['na_sales', 'eu_sales', 'jp_sales']:\n",
    "    region = actual_games.pivot_table(index='genre', values=column, aggfunc='sum').\\\n",
    "    sort_values(column, ascending=False)\n",
    "    region['ratio'] = round(region[column] / region[column].sum(), 2)\n",
    "    print(region.nlargest(5, column))"
   ]
  },
  {
   "cell_type": "markdown",
   "metadata": {},
   "source": [
    "Ситуация с жанрами похожа на предыдующую ситуацию с платформами. Стоит отметить, что жанры в Америке и Европе по местам сходятся, кроме 5-го - Misc в Америке и Racing в Европе. Япония снова заметно отличается с первым местом жанра Role-Playing, тогда как в Америке и Европе жанры Action и Shooter - лидируют. Также в Японии популярен жанр Fighting, а в Европе 5-е место занимает Racing."
   ]
  },
  {
   "cell_type": "markdown",
   "metadata": {},
   "source": [
    "3. Узнаем влияет ли рейтинг ESRB на продажи в отдельном регионе."
   ]
  },
  {
   "cell_type": "markdown",
   "metadata": {},
   "source": [
    "На заметку, рейтинги ESRB (https://www.esrb.org/ratings-guide/):\n",
    "\n",
    "* E - от 6 лет\n",
    "* E10+ - от 10 лет\n",
    "* T - от 13 лет\n",
    "* M - от 17 лет"
   ]
  },
  {
   "cell_type": "code",
   "execution_count": null,
   "metadata": {},
   "outputs": [],
   "source": [
    "for column in ['na_sales', 'eu_sales', 'jp_sales']:\n",
    "    region = (actual_games[actual_games['rating'] != -1].\n",
    "              pivot_table(index='rating', values=column, aggfunc='sum').\n",
    "              sort_values(column, ascending=False)\n",
    "             )\n",
    "    region['ratio'] = round(region[column] / region[column].sum(), 2)\n",
    "    print(region)"
   ]
  },
  {
   "cell_type": "markdown",
   "metadata": {},
   "source": [
    "Запад и Восток вновь отличаются по популярности рейтингов: на Западе популярностью пользуются игры для лиц старше 17 лет, тогда как на Востоке первое место по продажам принадлежит играм для подростков (от 13 лет и старше). Значит ли это, что на Западе чаще всего играют люди более взрослые, чем на Востоке? Неизвестно, поскольку непонятно, соответствует ли возраст игроков разрешенному рейтингу. Интересно, что взрослые игры в Японии лишь на третьем месте по популярности. Второе местро и на Западе, и на Востоке принадлежит рейтингу E."
   ]
  },
  {
   "cell_type": "markdown",
   "metadata": {},
   "source": [
    "<div class=\"alert alert-warning\">\n",
    "<h2> Комментарий наставника</h2>\n",
    "\n",
    "Портрет типичного пользователя каждого из регионов получен. Стоит визуализировать все полученные таблицы. Здорово, что отмечены индивидуальные особенности каждого региона. \n",
    "\n",
    "</div>"
   ]
  },
  {
   "cell_type": "markdown",
   "metadata": {},
   "source": [
    "<font color=brown> Графиков очень не хватает по анализу жанров в регионах.  \n",
    "    \n",
    "---"
   ]
  },
  {
   "cell_type": "markdown",
   "metadata": {},
   "source": [
    "## Этап 5. Исследование статистических показателей"
   ]
  },
  {
   "cell_type": "markdown",
   "metadata": {},
   "source": [
    "1. Как изменяется пользовательский рейтинг и рейтинг критиков в различных жанрах?"
   ]
  },
  {
   "cell_type": "markdown",
   "metadata": {},
   "source": [
    "2.Посчитайте среднее количество, дисперсию и стандартное отклонение."
   ]
  },
  {
   "cell_type": "code",
   "execution_count": null,
   "metadata": {
    "scrolled": true
   },
   "outputs": [],
   "source": [
    "actual_games[actual_games['user_score'] > 0].sort_values(by='user_score').head()"
   ]
  },
  {
   "cell_type": "code",
   "execution_count": null,
   "metadata": {
    "scrolled": true
   },
   "outputs": [],
   "source": [
    "actual_games[actual_games['user_score'] > 0].sort_values(by='user_score', ascending=True).head()"
   ]
  },
  {
   "cell_type": "code",
   "execution_count": null,
   "metadata": {
    "scrolled": true
   },
   "outputs": [],
   "source": [
    "actual_games[actual_games['critic_score'] > 0].sort_values(by='critic_score').head()"
   ]
  },
  {
   "cell_type": "code",
   "execution_count": null,
   "metadata": {
    "scrolled": false
   },
   "outputs": [],
   "source": [
    "actual_games[actual_games['critic_score'] > 0].sort_values(by='critic_score', ascending = True).head()"
   ]
  },
  {
   "cell_type": "code",
   "execution_count": null,
   "metadata": {},
   "outputs": [],
   "source": [
    "# фильтруем от маркерных значений\n",
    "critic_score = actual_games[actual_games['critic_score'] != -1]\n",
    "user_score = actual_games[actual_games['user_score'] != -1]"
   ]
  },
  {
   "cell_type": "code",
   "execution_count": null,
   "metadata": {
    "scrolled": true
   },
   "outputs": [],
   "source": [
    "rat_stat = pd.DataFrame()\n",
    "rat_stat['critic_score'] = critic_score['critic_score']\n",
    "rat_stat['user_score'] = user_score['user_score']\n",
    "rat_stat['genre'] = actual_games['genre']\n",
    "display(rat_stat)"
   ]
  },
  {
   "cell_type": "code",
   "execution_count": null,
   "metadata": {
    "scrolled": true
   },
   "outputs": [],
   "source": [
    "corr = rat_stat[['critic_score', 'user_score']].corr()\n",
    "corr.style.format(\"{:.2%}\")"
   ]
  },
  {
   "cell_type": "code",
   "execution_count": null,
   "metadata": {},
   "outputs": [],
   "source": [
    "corr.style.background_gradient(cmap='coolwarm')"
   ]
  },
  {
   "cell_type": "markdown",
   "metadata": {},
   "source": [
    "<font color=red> Медианные значения у половины жанров равны -1. -1 ты пометила пропуски в исходных данных. Так вот данные значения не стоит включать в анализ, это нереальные данные. Перед анализом стоит провести отбор реальных значений и только потом их анализировать. Также их стоит убрать их графиков ниже. Маркерные значения (-1) вызывают смещение базовых статистических показателей. \n",
    "    \n",
    "---"
   ]
  },
  {
   "cell_type": "markdown",
   "metadata": {},
   "source": [
    "<font color=brown> Также маркерные значения убраны из анализа. Теперь результат будет точнее. \n",
    "    \n",
    "---"
   ]
  },
  {
   "cell_type": "code",
   "execution_count": null,
   "metadata": {
    "scrolled": true
   },
   "outputs": [],
   "source": [
    "columns_to_show = ['critic_score', 'user_score']\n",
    "\n",
    "rat_stat.groupby(['genre'])[columns_to_show].describe(percentiles=[])"
   ]
  },
  {
   "cell_type": "code",
   "execution_count": null,
   "metadata": {
    "scrolled": true
   },
   "outputs": [],
   "source": [
    "# Описательная статистика\n",
    "# np.mean - медиана\n",
    "# np.std - стандартное отклонение\n",
    "# np.var - дисперсия\n",
    "\n",
    "rat_stat.groupby(['genre'])[columns_to_show].agg([np.mean, np.std, np.var])"
   ]
  },
  {
   "cell_type": "code",
   "execution_count": null,
   "metadata": {},
   "outputs": [],
   "source": [
    "%config InlineBackend.figure_format = 'svg' \n",
    "sns.distplot(rat_stat.critic_score);"
   ]
  },
  {
   "cell_type": "code",
   "execution_count": null,
   "metadata": {
    "scrolled": true
   },
   "outputs": [],
   "source": [
    "sns.jointplot(x='critic_score', y='user_score', \n",
    "              data=rat_stat, kind='scatter');"
   ]
  },
  {
   "cell_type": "markdown",
   "metadata": {},
   "source": [
    "Как показано, в сводной таблице и графике, распределение оценок критиков сильно отличается от оценок пользователей. В разных жанрах по-разному. А именно:\n",
    "* сильно отличается по значениям жанры Pazzle, Misc ;\n",
    "* в жанрах Rasing, Platform и Role-Playing и Strategy - почти в 2 раза.\n",
    "\n",
    " # правильно ли я понимаю, что маркерные значения это дата - actual_games, а без них просто нужно брать games ??"
   ]
  },
  {
   "cell_type": "markdown",
   "metadata": {},
   "source": [
    "<font color=green> Нет. Маркерные значения - это -1 в столбцах с отзывами критиков и пользователей, которыми мы отметили пропуски. Для чего мы их заполнили -1? Для того, чтобы отметить места пропусков. Заполнить их адекватно мы не можем, поэтому просто отметим их позиции. Люди, которые работают с твоими данными, сразу видят, что это не просто пропуски, которые ты не заметила. Это пропуски, которые обработать адекватно невозможно. actual_games - это актуальный период, который мы анализируем. Именно его и стоит брать в качестве данных для анализа, т.к. данные за все 35 лет нас не интересуют. Для качественного прогноза на следующий год нам важно понимать те тренды, которые преобладают в индустрии сейчас. Их можно узнать именно из анализа последнего периода. \n",
    "    \n",
    "---"
   ]
  },
  {
   "cell_type": "markdown",
   "metadata": {},
   "source": [
    "<div class=\"alert alert-danger\">\n",
    "<h2> Комментарий наставника</h2>\n",
    "\n",
    "Не стоит маркерные значения включать в анализ. Это нереальные данные, которыми мы пометили пропуски.  Посмотри на результаты без них.\n",
    "\n",
    "</div>"
   ]
  },
  {
   "cell_type": "markdown",
   "metadata": {},
   "source": [
    "## Этап 6. Проверка гипотез"
   ]
  },
  {
   "cell_type": "markdown",
   "metadata": {},
   "source": [
    "Гипотеза №1.\n",
    "\n",
    "𝐻0  — средние пользовательские рейтинги платформ Xbox One и PC одинаковые.\n",
    "\n",
    "𝐻1  — средние пользовательские рейтинги платформ Xbox One и PC различаются.\n",
    "\n",
    "𝛼=5%"
   ]
  },
  {
   "cell_type": "markdown",
   "metadata": {},
   "source": [
    "<font color=brown> Теперь рассматривается актуальный период без маркерных значений. Это именно то, что нам и надо. \n",
    "    \n",
    "---"
   ]
  },
  {
   "cell_type": "code",
   "execution_count": null,
   "metadata": {},
   "outputs": [],
   "source": [
    "xone = actual_games[(actual_games['platform'] == 'XOne') & (actual_games['user_score'] > 0)]['user_score']\n",
    "pc = actual_games[(actual_games['platform'] == 'PC') & (actual_games['user_score'] > 0)]['user_score']\n",
    "\n",
    "alpha = .05\n",
    "\n",
    "results = st.ttest_ind(\n",
    "    xone, \n",
    "    pc, \n",
    "    equal_var=False)\n",
    "\n",
    "print('p-значение:', results.pvalue)\n",
    "\n",
    "if (results.pvalue < alpha):\n",
    "    print(\"Отвергаем нулевую гипотезу\")\n",
    "else:\n",
    "    print(\"Не получилось отвергнуть нулевую гипотезу\")"
   ]
  },
  {
   "cell_type": "code",
   "execution_count": null,
   "metadata": {},
   "outputs": [],
   "source": [
    "xone_pc = actual_games.query('platform == \"XOne\" or platform == \"PC\"')\n",
    "xone_pc.pivot_table(index='platform', values='user_score', aggfunc='mean')"
   ]
  },
  {
   "cell_type": "markdown",
   "metadata": {},
   "source": [
    "Статистический тест показает, что гипотезу о равенстве среднего пользовательского рейтинга для XOne и PC не получается отвергнуть.\n",
    "Если бы мы утверждали, что средние рейтинги для этих платформ различны, мы бы допустили ошибку с вероятностью 95%."
   ]
  },
  {
   "cell_type": "markdown",
   "metadata": {},
   "source": [
    "<div class=\"alert alert-danger\">\n",
    "<h2> Комментарий наставника</h2>\n",
    "\n",
    "Гипотезы сформулированы верно. Однако опять в рассмотрение попали маркерные значения. Их стоит убрать из анализируемых выборок. \n",
    "\n",
    "</div>"
   ]
  },
  {
   "cell_type": "markdown",
   "metadata": {},
   "source": [
    "Гипотеза №2.\n",
    "\n",
    "𝐻0  — средние пользовательские рейтинги жанров Action (англ. «действие») и Sports (англ. «виды спорта») одинаковые.\n",
    "\n",
    "𝐻1  — средние пользовательские рейтинги жанров Action (англ. «действие») и Sports (англ. «виды спорта») разные.\n",
    "\n",
    "𝛼=5%"
   ]
  },
  {
   "cell_type": "code",
   "execution_count": null,
   "metadata": {},
   "outputs": [],
   "source": [
    "action = actual_games[(actual_games['genre'] == 'Action') & (actual_games['user_score'] > 0)]['user_score']\n",
    "sports = actual_games[(actual_games['genre'] == 'Sports') & (actual_games['user_score'] > 0)]['user_score']\n",
    "\n",
    "alpha = .05\n",
    "\n",
    "results = st.ttest_ind(\n",
    "    action, \n",
    "    sports, \n",
    "    equal_var=False)\n",
    "\n",
    "print('p-значение:', results.pvalue)\n",
    "\n",
    "if (results.pvalue < alpha):\n",
    "    print(\"Отвергаем нулевую гипотезу\")\n",
    "else:\n",
    "    print(\"Не получилось отвергнуть нулевую гипотезу\")"
   ]
  },
  {
   "cell_type": "code",
   "execution_count": null,
   "metadata": {},
   "outputs": [],
   "source": [
    "action_sports = actual_games.query('genre == \"Action\" or genre == \"Sports\"')\n",
    "action_sports.pivot_table(index='genre', values='user_score', aggfunc='mean')"
   ]
  },
  {
   "cell_type": "markdown",
   "metadata": {},
   "source": [
    "<font color=brown> Гипотзеы проверены верно. Однако в расчеты среднего ты включила маркерные значения -1. \n",
    "Поэтому они сильно занижены. Обрати на это внимание. \n",
    "    \n",
    "---"
   ]
  },
  {
   "cell_type": "markdown",
   "metadata": {},
   "source": [
    "Исходная гипотеза не подтвердилась: можно утверждать с уверенностью 99,155%, что средние пользовательские рейтинги для жанров Action и Sports различны."
   ]
  },
  {
   "cell_type": "markdown",
   "metadata": {},
   "source": [
    "<font color=red> Здесь все аналогично. Маркерные значения - это -1. Они очень сильно влияют на статистические показатели. В анализ их включать не стоит. Данные, которые надо рассматривать, это actual_games, как в первой версии работы. Это данные за актуальный период, который поможет нам при построении прогноза на 2017 год. \n",
    "    \n",
    "---"
   ]
  },
  {
   "cell_type": "markdown",
   "metadata": {},
   "source": [
    "<div class=\"alert alert-warning\">\n",
    "<h2> Комментарий наставника</h2>\n",
    "\n",
    "Ситуация аналогична проверке первой гипотезы. \n",
    "\n",
    "</div>"
   ]
  },
  {
   "cell_type": "markdown",
   "metadata": {},
   "source": [
    "## Общий вывод"
   ]
  },
  {
   "cell_type": "markdown",
   "metadata": {},
   "source": [
    "Анализ данных показал, что потенциально успешный продукт для магазина Стримчик должен обладать рядом характеристик:\n",
    "\n",
    "- Игра должна быть разработана для платформ PS4 или XOne, если речь идет о западном рынке, и — для платформы 3DS, если игру планируют продавать в Японии.\n",
    "- В среднем \"жизнь\" платформы - 8 лет.\n",
    "- Жанр: Action или Shooter для Запада, Role-Playing — для Японии.\n",
    "- Рейтинг ESRB: либо от 17 лет (для Америки и Европы) или от 13 лет (для Японии). Рейтинг от 6 лет и старше также будет хорошим выбором, но тогда набор жанров сужается.\n",
    "- Ориентироваться на оценки пользователей нет смысла, на продажи это не оказывает существенного влияния. Однако отзывы критиков не стоит упускать из внимания, их отзывы имеют значение. \n",
    "Стоит также отметить, что если пользовательский рейтинг все-таки будет важен создателям игры, то необходимо знать, что в жанре Sports рейтинг пользователей, как правило, выше, чем в жанре Action.\n",
    "\n",
    "Итог: перспективными платформами на 2017 год будут от производителей: \n",
    "* Sony - PS4\n",
    "* Microsoft - XOne ."
   ]
  },
  {
   "cell_type": "markdown",
   "metadata": {},
   "source": [
    "<div class=\"alert alert-success\">\n",
    "<h2> Комментарий наставника</h2>\n",
    "\n",
    "Выводы описаны грамотно. Приведены ответы на главные вопросы проекта. В выводах можно приводить полученные ранее значения, правильно. Также можно расписать все, что было сделано в работе.  \n",
    "\n",
    "</div>"
   ]
  },
  {
   "cell_type": "markdown",
   "metadata": {},
   "source": [
    "<font color=red> Итого: потерянная перспективная платформа - XOne. Исправь вышеотмеченную помарку и получи график распределения выручки данной платформы по годам. Пойми, почему мы ее можем отнести к перспективным. Далее, маркерные значения - это -1. Их стоит убрать из выборок при анализе столбцов с отзывами пользователей и критиков. Данные, которые стоит анализировать, это actual_games. Это данные за актуальный период, которые помогут нам в построении прогноза на следующий год. Надеюсь, у тебя все получится. Жду твой проект :)\n",
    "    \n",
    "---"
   ]
  },
  {
   "cell_type": "markdown",
   "metadata": {},
   "source": [
    "<font color=brown> Помарки исправлены, и теперь работа выполнена хорошо. \n",
    "Поздравляю со сданным проектом. Надеюсь, он был интересен и познавателен. Успехов в дальнейшем пути :)\n",
    "    \n",
    "---"
   ]
  },
  {
   "cell_type": "markdown",
   "metadata": {},
   "source": [
    "<div class=\"alert alert-warning\">\n",
    "<h2> Комментарий наставника</h2>\n",
    "\n",
    "Если тебе нравится тема визуализации, то можешь изучить методы библиотеки plotly. Она позволяет строить очень презентабельные графики.\n",
    "\n",
    "Ты проделала большую работу, молодец! Осталось исправить некоторые неточности. Назови перспективные на 2017 год платформы. Также исправь пункты, где в анализ попали маркерные значения. Это нереальные данные, анализировать их не стоит. Жду твою работу :)\n",
    "\n",
    "</div>\n"
   ]
  },
  {
   "cell_type": "code",
   "execution_count": null,
   "metadata": {},
   "outputs": [],
   "source": []
  }
 ],
 "metadata": {
  "kernelspec": {
   "display_name": "Python 3",
   "language": "python",
   "name": "python3"
  },
  "language_info": {
   "codemirror_mode": {
    "name": "ipython",
    "version": 3
   },
   "file_extension": ".py",
   "mimetype": "text/x-python",
   "name": "python",
   "nbconvert_exporter": "python",
   "pygments_lexer": "ipython3",
   "version": "3.7.4"
  }
 },
 "nbformat": 4,
 "nbformat_minor": 2
}
